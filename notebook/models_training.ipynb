{
 "cells": [
  {
   "cell_type": "code",
   "execution_count": 56,
   "id": "221a2ee2",
   "metadata": {},
   "outputs": [],
   "source": [
    "import pandas as pd\n",
    "from sklearn.datasets import make_classification,make_blobs,make_moons\n",
    "import numpy as np\n",
    "import seaborn as sns\n",
    "import matplotlib.pyplot as plt\n",
    "import warnings\n",
    "warnings.filterwarnings('ignore')\n"
   ]
  },
  {
   "cell_type": "code",
   "execution_count": 57,
   "id": "186368c0",
   "metadata": {},
   "outputs": [],
   "source": [
    "df=pd.read_csv('data/cleand_default_of_credit_card_clients.csv')"
   ]
  },
  {
   "cell_type": "code",
   "execution_count": 58,
   "id": "d421f8cd",
   "metadata": {},
   "outputs": [
    {
     "data": {
      "text/html": [
       "<div>\n",
       "<style scoped>\n",
       "    .dataframe tbody tr th:only-of-type {\n",
       "        vertical-align: middle;\n",
       "    }\n",
       "\n",
       "    .dataframe tbody tr th {\n",
       "        vertical-align: top;\n",
       "    }\n",
       "\n",
       "    .dataframe thead th {\n",
       "        text-align: right;\n",
       "    }\n",
       "</style>\n",
       "<table border=\"1\" class=\"dataframe\">\n",
       "  <thead>\n",
       "    <tr style=\"text-align: right;\">\n",
       "      <th></th>\n",
       "      <th>LIMIT_BAL</th>\n",
       "      <th>SEX</th>\n",
       "      <th>EDUCATION</th>\n",
       "      <th>MARRIAGE</th>\n",
       "      <th>AGE</th>\n",
       "      <th>PAY_1</th>\n",
       "      <th>PAY_2</th>\n",
       "      <th>PAY_3</th>\n",
       "      <th>PAY_4</th>\n",
       "      <th>PAY_5</th>\n",
       "      <th>...</th>\n",
       "      <th>BILL_AMT4</th>\n",
       "      <th>BILL_AMT5</th>\n",
       "      <th>BILL_AMT6</th>\n",
       "      <th>PAY_AMT1</th>\n",
       "      <th>PAY_AMT2</th>\n",
       "      <th>PAY_AMT3</th>\n",
       "      <th>PAY_AMT4</th>\n",
       "      <th>PAY_AMT5</th>\n",
       "      <th>PAY_AMT6</th>\n",
       "      <th>def_pay</th>\n",
       "    </tr>\n",
       "  </thead>\n",
       "  <tbody>\n",
       "    <tr>\n",
       "      <th>0</th>\n",
       "      <td>20000</td>\n",
       "      <td>2</td>\n",
       "      <td>2</td>\n",
       "      <td>1</td>\n",
       "      <td>24</td>\n",
       "      <td>2</td>\n",
       "      <td>2</td>\n",
       "      <td>0</td>\n",
       "      <td>0</td>\n",
       "      <td>0</td>\n",
       "      <td>...</td>\n",
       "      <td>0</td>\n",
       "      <td>0</td>\n",
       "      <td>0</td>\n",
       "      <td>0</td>\n",
       "      <td>689</td>\n",
       "      <td>0</td>\n",
       "      <td>0</td>\n",
       "      <td>0</td>\n",
       "      <td>0</td>\n",
       "      <td>1</td>\n",
       "    </tr>\n",
       "    <tr>\n",
       "      <th>1</th>\n",
       "      <td>120000</td>\n",
       "      <td>2</td>\n",
       "      <td>2</td>\n",
       "      <td>2</td>\n",
       "      <td>26</td>\n",
       "      <td>0</td>\n",
       "      <td>2</td>\n",
       "      <td>0</td>\n",
       "      <td>0</td>\n",
       "      <td>0</td>\n",
       "      <td>...</td>\n",
       "      <td>3272</td>\n",
       "      <td>3455</td>\n",
       "      <td>3261</td>\n",
       "      <td>0</td>\n",
       "      <td>1000</td>\n",
       "      <td>1000</td>\n",
       "      <td>1000</td>\n",
       "      <td>0</td>\n",
       "      <td>2000</td>\n",
       "      <td>1</td>\n",
       "    </tr>\n",
       "    <tr>\n",
       "      <th>2</th>\n",
       "      <td>90000</td>\n",
       "      <td>2</td>\n",
       "      <td>2</td>\n",
       "      <td>2</td>\n",
       "      <td>34</td>\n",
       "      <td>0</td>\n",
       "      <td>0</td>\n",
       "      <td>0</td>\n",
       "      <td>0</td>\n",
       "      <td>0</td>\n",
       "      <td>...</td>\n",
       "      <td>14331</td>\n",
       "      <td>14948</td>\n",
       "      <td>15549</td>\n",
       "      <td>1518</td>\n",
       "      <td>1500</td>\n",
       "      <td>1000</td>\n",
       "      <td>1000</td>\n",
       "      <td>1000</td>\n",
       "      <td>5000</td>\n",
       "      <td>0</td>\n",
       "    </tr>\n",
       "    <tr>\n",
       "      <th>3</th>\n",
       "      <td>50000</td>\n",
       "      <td>2</td>\n",
       "      <td>2</td>\n",
       "      <td>1</td>\n",
       "      <td>37</td>\n",
       "      <td>0</td>\n",
       "      <td>0</td>\n",
       "      <td>0</td>\n",
       "      <td>0</td>\n",
       "      <td>0</td>\n",
       "      <td>...</td>\n",
       "      <td>28314</td>\n",
       "      <td>28959</td>\n",
       "      <td>29547</td>\n",
       "      <td>2000</td>\n",
       "      <td>2019</td>\n",
       "      <td>1200</td>\n",
       "      <td>1100</td>\n",
       "      <td>1069</td>\n",
       "      <td>1000</td>\n",
       "      <td>0</td>\n",
       "    </tr>\n",
       "    <tr>\n",
       "      <th>4</th>\n",
       "      <td>50000</td>\n",
       "      <td>1</td>\n",
       "      <td>2</td>\n",
       "      <td>1</td>\n",
       "      <td>57</td>\n",
       "      <td>0</td>\n",
       "      <td>0</td>\n",
       "      <td>0</td>\n",
       "      <td>0</td>\n",
       "      <td>0</td>\n",
       "      <td>...</td>\n",
       "      <td>20940</td>\n",
       "      <td>19146</td>\n",
       "      <td>19131</td>\n",
       "      <td>2000</td>\n",
       "      <td>36681</td>\n",
       "      <td>10000</td>\n",
       "      <td>9000</td>\n",
       "      <td>689</td>\n",
       "      <td>679</td>\n",
       "      <td>0</td>\n",
       "    </tr>\n",
       "  </tbody>\n",
       "</table>\n",
       "<p>5 rows × 24 columns</p>\n",
       "</div>"
      ],
      "text/plain": [
       "   LIMIT_BAL  SEX  EDUCATION  MARRIAGE  AGE  PAY_1  PAY_2  PAY_3  PAY_4  \\\n",
       "0      20000    2          2         1   24      2      2      0      0   \n",
       "1     120000    2          2         2   26      0      2      0      0   \n",
       "2      90000    2          2         2   34      0      0      0      0   \n",
       "3      50000    2          2         1   37      0      0      0      0   \n",
       "4      50000    1          2         1   57      0      0      0      0   \n",
       "\n",
       "   PAY_5  ...  BILL_AMT4  BILL_AMT5  BILL_AMT6  PAY_AMT1  PAY_AMT2  PAY_AMT3  \\\n",
       "0      0  ...          0          0          0         0       689         0   \n",
       "1      0  ...       3272       3455       3261         0      1000      1000   \n",
       "2      0  ...      14331      14948      15549      1518      1500      1000   \n",
       "3      0  ...      28314      28959      29547      2000      2019      1200   \n",
       "4      0  ...      20940      19146      19131      2000     36681     10000   \n",
       "\n",
       "   PAY_AMT4  PAY_AMT5  PAY_AMT6  def_pay  \n",
       "0         0         0         0        1  \n",
       "1      1000         0      2000        1  \n",
       "2      1000      1000      5000        0  \n",
       "3      1100      1069      1000        0  \n",
       "4      9000       689       679        0  \n",
       "\n",
       "[5 rows x 24 columns]"
      ]
     },
     "execution_count": 58,
     "metadata": {},
     "output_type": "execute_result"
    }
   ],
   "source": [
    "df.head()"
   ]
  },
  {
   "cell_type": "code",
   "execution_count": 59,
   "id": "b9131657",
   "metadata": {},
   "outputs": [
    {
     "data": {
      "text/plain": [
       "array([1, 0])"
      ]
     },
     "execution_count": 59,
     "metadata": {},
     "output_type": "execute_result"
    }
   ],
   "source": [
    "## imbalance data set\n",
    "df['def_pay'].unique()"
   ]
  },
  {
   "cell_type": "code",
   "execution_count": 60,
   "id": "98dcb8c1",
   "metadata": {},
   "outputs": [
    {
     "data": {
      "text/plain": [
       "array([2, 0, 1, 3, 4, 8, 7, 5, 6])"
      ]
     },
     "execution_count": 60,
     "metadata": {},
     "output_type": "execute_result"
    }
   ],
   "source": [
    "df['PAY_1'].unique()"
   ]
  },
  {
   "cell_type": "code",
   "execution_count": 61,
   "id": "6155daf1",
   "metadata": {},
   "outputs": [
    {
     "name": "stdout",
     "output_type": "stream",
     "text": [
      "<class 'pandas.core.frame.DataFrame'>\n",
      "RangeIndex: 30000 entries, 0 to 29999\n",
      "Data columns (total 24 columns):\n",
      " #   Column     Non-Null Count  Dtype\n",
      "---  ------     --------------  -----\n",
      " 0   LIMIT_BAL  30000 non-null  int64\n",
      " 1   SEX        30000 non-null  int64\n",
      " 2   EDUCATION  30000 non-null  int64\n",
      " 3   MARRIAGE   30000 non-null  int64\n",
      " 4   AGE        30000 non-null  int64\n",
      " 5   PAY_1      30000 non-null  int64\n",
      " 6   PAY_2      30000 non-null  int64\n",
      " 7   PAY_3      30000 non-null  int64\n",
      " 8   PAY_4      30000 non-null  int64\n",
      " 9   PAY_5      30000 non-null  int64\n",
      " 10  PAY_6      30000 non-null  int64\n",
      " 11  BILL_AMT1  30000 non-null  int64\n",
      " 12  BILL_AMT2  30000 non-null  int64\n",
      " 13  BILL_AMT3  30000 non-null  int64\n",
      " 14  BILL_AMT4  30000 non-null  int64\n",
      " 15  BILL_AMT5  30000 non-null  int64\n",
      " 16  BILL_AMT6  30000 non-null  int64\n",
      " 17  PAY_AMT1   30000 non-null  int64\n",
      " 18  PAY_AMT2   30000 non-null  int64\n",
      " 19  PAY_AMT3   30000 non-null  int64\n",
      " 20  PAY_AMT4   30000 non-null  int64\n",
      " 21  PAY_AMT5   30000 non-null  int64\n",
      " 22  PAY_AMT6   30000 non-null  int64\n",
      " 23  def_pay    30000 non-null  int64\n",
      "dtypes: int64(24)\n",
      "memory usage: 5.5 MB\n"
     ]
    }
   ],
   "source": [
    "df.info()"
   ]
  },
  {
   "cell_type": "code",
   "execution_count": 62,
   "id": "2872c63e",
   "metadata": {},
   "outputs": [
    {
     "data": {
      "text/plain": [
       "PAY_1\n",
       "0    23182\n",
       "1     3688\n",
       "2     2667\n",
       "3      322\n",
       "4       76\n",
       "5       26\n",
       "8       19\n",
       "6       11\n",
       "7        9\n",
       "Name: count, dtype: int64"
      ]
     },
     "execution_count": 62,
     "metadata": {},
     "output_type": "execute_result"
    }
   ],
   "source": [
    "df['PAY_1'].value_counts()"
   ]
  },
  {
   "cell_type": "code",
   "execution_count": 63,
   "id": "e9be8783",
   "metadata": {},
   "outputs": [],
   "source": [
    "## Segregate the colum for scaledown"
   ]
  },
  {
   "cell_type": "code",
   "execution_count": 64,
   "id": "ec59189b",
   "metadata": {},
   "outputs": [],
   "source": [
    "X=df.drop(['def_pay'],axis=1)"
   ]
  },
  {
   "cell_type": "code",
   "execution_count": 65,
   "id": "2c6c82ef",
   "metadata": {},
   "outputs": [],
   "source": [
    "y=df[['def_pay']]"
   ]
  },
  {
   "cell_type": "code",
   "execution_count": 66,
   "id": "8eb57422",
   "metadata": {},
   "outputs": [
    {
     "data": {
      "text/plain": [
       "array([1, 0])"
      ]
     },
     "execution_count": 66,
     "metadata": {},
     "output_type": "execute_result"
    }
   ],
   "source": [
    "df['def_pay'].unique()"
   ]
  },
  {
   "cell_type": "code",
   "execution_count": 67,
   "id": "8365d656",
   "metadata": {},
   "outputs": [],
   "source": [
    "#X, y = make_moons(n_samples=1000, noise=0.7)"
   ]
  },
  {
   "cell_type": "code",
   "execution_count": 68,
   "id": "78bbcd68",
   "metadata": {},
   "outputs": [],
   "source": [
    "#X, y = make_moons(n_samples=1000, noise=0.7)\n",
    "#plt.scatter(X[:,0],X[:,1],c=y)\n",
    "#plt.show()"
   ]
  },
  {
   "cell_type": "code",
   "execution_count": 69,
   "id": "a365c28a",
   "metadata": {},
   "outputs": [
    {
     "name": "stdout",
     "output_type": "stream",
     "text": [
      "Index(['LIMIT_BAL', 'SEX', 'EDUCATION', 'MARRIAGE', 'AGE', 'PAY_1', 'PAY_2',\n",
      "       'PAY_3', 'PAY_4', 'PAY_5', 'PAY_6', 'BILL_AMT1', 'BILL_AMT2',\n",
      "       'BILL_AMT3', 'BILL_AMT4', 'BILL_AMT5', 'BILL_AMT6', 'PAY_AMT1',\n",
      "       'PAY_AMT2', 'PAY_AMT3', 'PAY_AMT4', 'PAY_AMT5', 'PAY_AMT6'],\n",
      "      dtype='object')\n"
     ]
    }
   ],
   "source": [
    "column=X.columns\n",
    "print(column)"
   ]
  },
  {
   "cell_type": "code",
   "execution_count": 70,
   "id": "a4395eea",
   "metadata": {},
   "outputs": [],
   "source": [
    "from sklearn.compose import ColumnTransformer\n",
    "\n",
    "from sklearn.pipeline import Pipeline\n",
    "\n",
    "from sklearn.preprocessing import StandardScaler"
   ]
  },
  {
   "cell_type": "code",
   "execution_count": 71,
   "id": "f1a42ffd",
   "metadata": {},
   "outputs": [],
   "source": [
    "numerical_pip=Pipeline(\n",
    "    steps=[\n",
    "        ('scaler',StandardScaler())\n",
    "    ]\n",
    ")\n",
    "\n",
    "preprocessor=ColumnTransformer([\n",
    "    ('numeric',numerical_pip,column)\n",
    "])"
   ]
  },
  {
   "cell_type": "code",
   "execution_count": 72,
   "id": "c72a71fa",
   "metadata": {},
   "outputs": [],
   "source": [
    "from sklearn.model_selection import train_test_split"
   ]
  },
  {
   "cell_type": "code",
   "execution_count": 73,
   "id": "7a851493",
   "metadata": {},
   "outputs": [],
   "source": [
    "X_train, X_test, y_train, y_test = train_test_split(X, y, test_size=0.30, random_state=30)"
   ]
  },
  {
   "cell_type": "code",
   "execution_count": 74,
   "id": "a69181c2",
   "metadata": {},
   "outputs": [],
   "source": [
    "X_train=preprocessor.fit_transform(X_train)\n",
    "X_test=preprocessor.transform(X_test)"
   ]
  },
  {
   "cell_type": "code",
   "execution_count": 75,
   "id": "f9adb007",
   "metadata": {},
   "outputs": [
    {
     "data": {
      "text/plain": [
       "(21000, 23)"
      ]
     },
     "execution_count": 75,
     "metadata": {},
     "output_type": "execute_result"
    }
   ],
   "source": [
    "X_train.shape"
   ]
  },
  {
   "cell_type": "code",
   "execution_count": 76,
   "id": "2d7e35b8",
   "metadata": {},
   "outputs": [
    {
     "data": {
      "text/plain": [
       "(9000, 23)"
      ]
     },
     "execution_count": 76,
     "metadata": {},
     "output_type": "execute_result"
    }
   ],
   "source": [
    "X_test.shape\n"
   ]
  },
  {
   "cell_type": "code",
   "execution_count": 77,
   "id": "ffe11188",
   "metadata": {},
   "outputs": [
    {
     "data": {
      "text/html": [
       "<div>\n",
       "<style scoped>\n",
       "    .dataframe tbody tr th:only-of-type {\n",
       "        vertical-align: middle;\n",
       "    }\n",
       "\n",
       "    .dataframe tbody tr th {\n",
       "        vertical-align: top;\n",
       "    }\n",
       "\n",
       "    .dataframe thead th {\n",
       "        text-align: right;\n",
       "    }\n",
       "</style>\n",
       "<table border=\"1\" class=\"dataframe\">\n",
       "  <thead>\n",
       "    <tr style=\"text-align: right;\">\n",
       "      <th></th>\n",
       "      <th>numeric__LIMIT_BAL</th>\n",
       "      <th>numeric__SEX</th>\n",
       "      <th>numeric__EDUCATION</th>\n",
       "      <th>numeric__MARRIAGE</th>\n",
       "      <th>numeric__AGE</th>\n",
       "      <th>numeric__PAY_1</th>\n",
       "      <th>numeric__PAY_2</th>\n",
       "      <th>numeric__PAY_3</th>\n",
       "      <th>numeric__PAY_4</th>\n",
       "      <th>numeric__PAY_5</th>\n",
       "      <th>...</th>\n",
       "      <th>numeric__BILL_AMT3</th>\n",
       "      <th>numeric__BILL_AMT4</th>\n",
       "      <th>numeric__BILL_AMT5</th>\n",
       "      <th>numeric__BILL_AMT6</th>\n",
       "      <th>numeric__PAY_AMT1</th>\n",
       "      <th>numeric__PAY_AMT2</th>\n",
       "      <th>numeric__PAY_AMT3</th>\n",
       "      <th>numeric__PAY_AMT4</th>\n",
       "      <th>numeric__PAY_AMT5</th>\n",
       "      <th>numeric__PAY_AMT6</th>\n",
       "    </tr>\n",
       "  </thead>\n",
       "  <tbody>\n",
       "    <tr>\n",
       "      <th>0</th>\n",
       "      <td>-1.139003</td>\n",
       "      <td>-1.231086</td>\n",
       "      <td>0.216565</td>\n",
       "      <td>-1.073440</td>\n",
       "      <td>0.164656</td>\n",
       "      <td>-0.468416</td>\n",
       "      <td>-0.396151</td>\n",
       "      <td>-0.382004</td>\n",
       "      <td>-0.339993</td>\n",
       "      <td>2.506572</td>\n",
       "      <td>...</td>\n",
       "      <td>-0.517827</td>\n",
       "      <td>-0.495906</td>\n",
       "      <td>-0.481219</td>\n",
       "      <td>-0.521625</td>\n",
       "      <td>-0.202513</td>\n",
       "      <td>-0.178393</td>\n",
       "      <td>-0.243247</td>\n",
       "      <td>-0.313948</td>\n",
       "      <td>-0.277781</td>\n",
       "      <td>-0.234427</td>\n",
       "    </tr>\n",
       "    <tr>\n",
       "      <th>1</th>\n",
       "      <td>0.323213</td>\n",
       "      <td>0.812291</td>\n",
       "      <td>0.216565</td>\n",
       "      <td>0.845048</td>\n",
       "      <td>1.034894</td>\n",
       "      <td>0.840008</td>\n",
       "      <td>-0.396151</td>\n",
       "      <td>-0.382004</td>\n",
       "      <td>-0.339993</td>\n",
       "      <td>-0.308897</td>\n",
       "      <td>...</td>\n",
       "      <td>-0.674425</td>\n",
       "      <td>-0.671125</td>\n",
       "      <td>-0.662746</td>\n",
       "      <td>-0.652089</td>\n",
       "      <td>-0.333370</td>\n",
       "      <td>-0.237431</td>\n",
       "      <td>-0.284034</td>\n",
       "      <td>-0.313948</td>\n",
       "      <td>-0.305063</td>\n",
       "      <td>-0.289958</td>\n",
       "    </tr>\n",
       "    <tr>\n",
       "      <th>2</th>\n",
       "      <td>1.862388</td>\n",
       "      <td>-1.231086</td>\n",
       "      <td>-1.127766</td>\n",
       "      <td>0.845048</td>\n",
       "      <td>-0.923141</td>\n",
       "      <td>-0.468416</td>\n",
       "      <td>-0.396151</td>\n",
       "      <td>-0.382004</td>\n",
       "      <td>-0.339993</td>\n",
       "      <td>-0.308897</td>\n",
       "      <td>...</td>\n",
       "      <td>-0.450088</td>\n",
       "      <td>-0.041830</td>\n",
       "      <td>-0.367911</td>\n",
       "      <td>-0.075875</td>\n",
       "      <td>0.603235</td>\n",
       "      <td>0.395304</td>\n",
       "      <td>1.882136</td>\n",
       "      <td>0.877935</td>\n",
       "      <td>1.885017</td>\n",
       "      <td>-0.269467</td>\n",
       "    </tr>\n",
       "    <tr>\n",
       "      <th>3</th>\n",
       "      <td>0.323213</td>\n",
       "      <td>0.812291</td>\n",
       "      <td>-1.127766</td>\n",
       "      <td>0.845048</td>\n",
       "      <td>-0.705581</td>\n",
       "      <td>-0.468416</td>\n",
       "      <td>-0.396151</td>\n",
       "      <td>-0.382004</td>\n",
       "      <td>-0.339993</td>\n",
       "      <td>-0.308897</td>\n",
       "      <td>...</td>\n",
       "      <td>-0.674468</td>\n",
       "      <td>-0.671172</td>\n",
       "      <td>-0.652030</td>\n",
       "      <td>-0.620966</td>\n",
       "      <td>-0.333370</td>\n",
       "      <td>-0.237431</td>\n",
       "      <td>-0.284034</td>\n",
       "      <td>-0.270647</td>\n",
       "      <td>-0.187114</td>\n",
       "      <td>-0.211604</td>\n",
       "    </tr>\n",
       "    <tr>\n",
       "      <th>4</th>\n",
       "      <td>0.015378</td>\n",
       "      <td>0.812291</td>\n",
       "      <td>-1.127766</td>\n",
       "      <td>0.845048</td>\n",
       "      <td>0.382216</td>\n",
       "      <td>-0.468416</td>\n",
       "      <td>-0.396151</td>\n",
       "      <td>-0.382004</td>\n",
       "      <td>-0.339993</td>\n",
       "      <td>-0.308897</td>\n",
       "      <td>...</td>\n",
       "      <td>-0.364491</td>\n",
       "      <td>-0.309084</td>\n",
       "      <td>-0.413231</td>\n",
       "      <td>-0.592753</td>\n",
       "      <td>-0.041678</td>\n",
       "      <td>-0.040636</td>\n",
       "      <td>0.068238</td>\n",
       "      <td>-0.037628</td>\n",
       "      <td>-0.081284</td>\n",
       "      <td>0.127691</td>\n",
       "    </tr>\n",
       "    <tr>\n",
       "      <th>...</th>\n",
       "      <td>...</td>\n",
       "      <td>...</td>\n",
       "      <td>...</td>\n",
       "      <td>...</td>\n",
       "      <td>...</td>\n",
       "      <td>...</td>\n",
       "      <td>...</td>\n",
       "      <td>...</td>\n",
       "      <td>...</td>\n",
       "      <td>...</td>\n",
       "      <td>...</td>\n",
       "      <td>...</td>\n",
       "      <td>...</td>\n",
       "      <td>...</td>\n",
       "      <td>...</td>\n",
       "      <td>...</td>\n",
       "      <td>...</td>\n",
       "      <td>...</td>\n",
       "      <td>...</td>\n",
       "      <td>...</td>\n",
       "      <td>...</td>\n",
       "    </tr>\n",
       "    <tr>\n",
       "      <th>8995</th>\n",
       "      <td>0.400172</td>\n",
       "      <td>-1.231086</td>\n",
       "      <td>-1.127766</td>\n",
       "      <td>-1.073440</td>\n",
       "      <td>0.382216</td>\n",
       "      <td>-0.468416</td>\n",
       "      <td>-0.396151</td>\n",
       "      <td>-0.382004</td>\n",
       "      <td>-0.339993</td>\n",
       "      <td>-0.308897</td>\n",
       "      <td>...</td>\n",
       "      <td>-0.497393</td>\n",
       "      <td>-0.599515</td>\n",
       "      <td>-0.602276</td>\n",
       "      <td>-0.665699</td>\n",
       "      <td>-0.215960</td>\n",
       "      <td>-0.119354</td>\n",
       "      <td>-0.230154</td>\n",
       "      <td>-0.313948</td>\n",
       "      <td>-0.305063</td>\n",
       "      <td>-0.123365</td>\n",
       "    </tr>\n",
       "    <tr>\n",
       "      <th>8996</th>\n",
       "      <td>1.246718</td>\n",
       "      <td>0.812291</td>\n",
       "      <td>-1.127766</td>\n",
       "      <td>-1.073440</td>\n",
       "      <td>0.382216</td>\n",
       "      <td>-0.468416</td>\n",
       "      <td>-0.396151</td>\n",
       "      <td>-0.382004</td>\n",
       "      <td>-0.339993</td>\n",
       "      <td>-0.308897</td>\n",
       "      <td>...</td>\n",
       "      <td>0.014170</td>\n",
       "      <td>0.108582</td>\n",
       "      <td>0.193568</td>\n",
       "      <td>0.289392</td>\n",
       "      <td>-0.100529</td>\n",
       "      <td>-0.119354</td>\n",
       "      <td>-0.122392</td>\n",
       "      <td>-0.115013</td>\n",
       "      <td>0.012174</td>\n",
       "      <td>-0.178896</td>\n",
       "    </tr>\n",
       "    <tr>\n",
       "      <th>8997</th>\n",
       "      <td>-1.139003</td>\n",
       "      <td>-1.231086</td>\n",
       "      <td>0.216565</td>\n",
       "      <td>0.845048</td>\n",
       "      <td>-0.379242</td>\n",
       "      <td>-0.468416</td>\n",
       "      <td>-0.396151</td>\n",
       "      <td>-0.382004</td>\n",
       "      <td>-0.339993</td>\n",
       "      <td>-0.308897</td>\n",
       "      <td>...</td>\n",
       "      <td>-0.453093</td>\n",
       "      <td>-0.498982</td>\n",
       "      <td>-0.476405</td>\n",
       "      <td>-0.470936</td>\n",
       "      <td>-0.234412</td>\n",
       "      <td>-0.178865</td>\n",
       "      <td>-0.220886</td>\n",
       "      <td>-0.287888</td>\n",
       "      <td>-0.278732</td>\n",
       "      <td>-0.255751</td>\n",
       "    </tr>\n",
       "    <tr>\n",
       "      <th>8998</th>\n",
       "      <td>-0.600292</td>\n",
       "      <td>0.812291</td>\n",
       "      <td>1.560897</td>\n",
       "      <td>0.845048</td>\n",
       "      <td>-1.358260</td>\n",
       "      <td>-0.468416</td>\n",
       "      <td>-0.396151</td>\n",
       "      <td>-0.382004</td>\n",
       "      <td>-0.339993</td>\n",
       "      <td>-0.308897</td>\n",
       "      <td>...</td>\n",
       "      <td>-0.361972</td>\n",
       "      <td>-0.499697</td>\n",
       "      <td>-0.170871</td>\n",
       "      <td>-0.635501</td>\n",
       "      <td>1.412941</td>\n",
       "      <td>0.943338</td>\n",
       "      <td>0.310594</td>\n",
       "      <td>1.001407</td>\n",
       "      <td>-0.242504</td>\n",
       "      <td>0.910345</td>\n",
       "    </tr>\n",
       "    <tr>\n",
       "      <th>8999</th>\n",
       "      <td>0.861924</td>\n",
       "      <td>-1.231086</td>\n",
       "      <td>0.216565</td>\n",
       "      <td>0.845048</td>\n",
       "      <td>1.252453</td>\n",
       "      <td>-0.468416</td>\n",
       "      <td>-0.396151</td>\n",
       "      <td>-0.382004</td>\n",
       "      <td>-0.339993</td>\n",
       "      <td>-0.308897</td>\n",
       "      <td>...</td>\n",
       "      <td>0.449466</td>\n",
       "      <td>0.309136</td>\n",
       "      <td>0.383536</td>\n",
       "      <td>0.425122</td>\n",
       "      <td>-0.100296</td>\n",
       "      <td>-0.099517</td>\n",
       "      <td>-0.111400</td>\n",
       "      <td>-0.161166</td>\n",
       "      <td>-0.146191</td>\n",
       "      <td>-0.162015</td>\n",
       "    </tr>\n",
       "  </tbody>\n",
       "</table>\n",
       "<p>9000 rows × 23 columns</p>\n",
       "</div>"
      ],
      "text/plain": [
       "      numeric__LIMIT_BAL  numeric__SEX  numeric__EDUCATION  numeric__MARRIAGE  \\\n",
       "0              -1.139003     -1.231086            0.216565          -1.073440   \n",
       "1               0.323213      0.812291            0.216565           0.845048   \n",
       "2               1.862388     -1.231086           -1.127766           0.845048   \n",
       "3               0.323213      0.812291           -1.127766           0.845048   \n",
       "4               0.015378      0.812291           -1.127766           0.845048   \n",
       "...                  ...           ...                 ...                ...   \n",
       "8995            0.400172     -1.231086           -1.127766          -1.073440   \n",
       "8996            1.246718      0.812291           -1.127766          -1.073440   \n",
       "8997           -1.139003     -1.231086            0.216565           0.845048   \n",
       "8998           -0.600292      0.812291            1.560897           0.845048   \n",
       "8999            0.861924     -1.231086            0.216565           0.845048   \n",
       "\n",
       "      numeric__AGE  numeric__PAY_1  numeric__PAY_2  numeric__PAY_3  \\\n",
       "0         0.164656       -0.468416       -0.396151       -0.382004   \n",
       "1         1.034894        0.840008       -0.396151       -0.382004   \n",
       "2        -0.923141       -0.468416       -0.396151       -0.382004   \n",
       "3        -0.705581       -0.468416       -0.396151       -0.382004   \n",
       "4         0.382216       -0.468416       -0.396151       -0.382004   \n",
       "...            ...             ...             ...             ...   \n",
       "8995      0.382216       -0.468416       -0.396151       -0.382004   \n",
       "8996      0.382216       -0.468416       -0.396151       -0.382004   \n",
       "8997     -0.379242       -0.468416       -0.396151       -0.382004   \n",
       "8998     -1.358260       -0.468416       -0.396151       -0.382004   \n",
       "8999      1.252453       -0.468416       -0.396151       -0.382004   \n",
       "\n",
       "      numeric__PAY_4  numeric__PAY_5  ...  numeric__BILL_AMT3  \\\n",
       "0          -0.339993        2.506572  ...           -0.517827   \n",
       "1          -0.339993       -0.308897  ...           -0.674425   \n",
       "2          -0.339993       -0.308897  ...           -0.450088   \n",
       "3          -0.339993       -0.308897  ...           -0.674468   \n",
       "4          -0.339993       -0.308897  ...           -0.364491   \n",
       "...              ...             ...  ...                 ...   \n",
       "8995       -0.339993       -0.308897  ...           -0.497393   \n",
       "8996       -0.339993       -0.308897  ...            0.014170   \n",
       "8997       -0.339993       -0.308897  ...           -0.453093   \n",
       "8998       -0.339993       -0.308897  ...           -0.361972   \n",
       "8999       -0.339993       -0.308897  ...            0.449466   \n",
       "\n",
       "      numeric__BILL_AMT4  numeric__BILL_AMT5  numeric__BILL_AMT6  \\\n",
       "0              -0.495906           -0.481219           -0.521625   \n",
       "1              -0.671125           -0.662746           -0.652089   \n",
       "2              -0.041830           -0.367911           -0.075875   \n",
       "3              -0.671172           -0.652030           -0.620966   \n",
       "4              -0.309084           -0.413231           -0.592753   \n",
       "...                  ...                 ...                 ...   \n",
       "8995           -0.599515           -0.602276           -0.665699   \n",
       "8996            0.108582            0.193568            0.289392   \n",
       "8997           -0.498982           -0.476405           -0.470936   \n",
       "8998           -0.499697           -0.170871           -0.635501   \n",
       "8999            0.309136            0.383536            0.425122   \n",
       "\n",
       "      numeric__PAY_AMT1  numeric__PAY_AMT2  numeric__PAY_AMT3  \\\n",
       "0             -0.202513          -0.178393          -0.243247   \n",
       "1             -0.333370          -0.237431          -0.284034   \n",
       "2              0.603235           0.395304           1.882136   \n",
       "3             -0.333370          -0.237431          -0.284034   \n",
       "4             -0.041678          -0.040636           0.068238   \n",
       "...                 ...                ...                ...   \n",
       "8995          -0.215960          -0.119354          -0.230154   \n",
       "8996          -0.100529          -0.119354          -0.122392   \n",
       "8997          -0.234412          -0.178865          -0.220886   \n",
       "8998           1.412941           0.943338           0.310594   \n",
       "8999          -0.100296          -0.099517          -0.111400   \n",
       "\n",
       "      numeric__PAY_AMT4  numeric__PAY_AMT5  numeric__PAY_AMT6  \n",
       "0             -0.313948          -0.277781          -0.234427  \n",
       "1             -0.313948          -0.305063          -0.289958  \n",
       "2              0.877935           1.885017          -0.269467  \n",
       "3             -0.270647          -0.187114          -0.211604  \n",
       "4             -0.037628          -0.081284           0.127691  \n",
       "...                 ...                ...                ...  \n",
       "8995          -0.313948          -0.305063          -0.123365  \n",
       "8996          -0.115013           0.012174          -0.178896  \n",
       "8997          -0.287888          -0.278732          -0.255751  \n",
       "8998           1.001407          -0.242504           0.910345  \n",
       "8999          -0.161166          -0.146191          -0.162015  \n",
       "\n",
       "[9000 rows x 23 columns]"
      ]
     },
     "execution_count": 77,
     "metadata": {},
     "output_type": "execute_result"
    }
   ],
   "source": [
    "pd.DataFrame(X_test,columns=preprocessor.get_feature_names_out())"
   ]
  },
  {
   "cell_type": "code",
   "execution_count": 78,
   "id": "dc823a58",
   "metadata": {},
   "outputs": [],
   "source": [
    "from sklearn.metrics import accuracy_score,confusion_matrix,classification_report,f1_score,recall_score"
   ]
  },
  {
   "cell_type": "code",
   "execution_count": 79,
   "id": "97e1d0af",
   "metadata": {},
   "outputs": [
    {
     "name": "stdout",
     "output_type": "stream",
     "text": [
      "def_pay\n",
      "0          16300\n",
      "1          16300\n",
      "Name: count, dtype: int64\n"
     ]
    }
   ],
   "source": [
    "from imblearn.over_sampling import SMOTE\n",
    "oversample = SMOTE()\n",
    "X_train, y_train = oversample.fit_resample(X_train, y_train)\n",
    "print(y_train.value_counts())"
   ]
  },
  {
   "cell_type": "markdown",
   "id": "15020d2c",
   "metadata": {},
   "source": [
    "## logisticRegression"
   ]
  },
  {
   "cell_type": "code",
   "execution_count": 80,
   "id": "f01e196d",
   "metadata": {},
   "outputs": [],
   "source": [
    "from sklearn.linear_model  import LogisticRegression"
   ]
  },
  {
   "cell_type": "code",
   "execution_count": 81,
   "id": "bfdcf468",
   "metadata": {},
   "outputs": [
    {
     "name": "stdout",
     "output_type": "stream",
     "text": [
      "0.7765555555555556\n"
     ]
    }
   ],
   "source": [
    "lg=LogisticRegression(penalty= 'l2',C=1.5)\n",
    "lg.fit(X_train,y_train)\n",
    "y_pred=lg.predict(X_test)\n",
    "print(accuracy_score(y_test,y_pred))"
   ]
  },
  {
   "cell_type": "code",
   "execution_count": 82,
   "id": "0c5d26ca",
   "metadata": {},
   "outputs": [],
   "source": [
    "#hyperparamater tuning\n",
    "param={'penalty':[\"l1\", \"l2\", \"elasticnet\"],\n",
    "      'C':[1,1.5,1.0,12,6,10,0.1]\n",
    "      }"
   ]
  },
  {
   "cell_type": "code",
   "execution_count": 83,
   "id": "4a90f458",
   "metadata": {},
   "outputs": [],
   "source": [
    "from sklearn.model_selection import GridSearchCV"
   ]
  },
  {
   "cell_type": "code",
   "execution_count": 84,
   "id": "41abfa0e",
   "metadata": {},
   "outputs": [
    {
     "name": "stdout",
     "output_type": "stream",
     "text": [
      "LogisticRegression(C=0.1)\n",
      "{'C': 0.1, 'penalty': 'l2'}\n",
      "0.7060429447852761\n"
     ]
    }
   ],
   "source": [
    "clf=GridSearchCV(estimator=lg,param_grid=param,cv=5)\n",
    "clf.fit(X_train,y_train)\n",
    "print(clf.best_estimator_)\n",
    "print(clf.best_params_)\n",
    "print(clf.best_score_)"
   ]
  },
  {
   "cell_type": "code",
   "execution_count": 85,
   "id": "2dc4daa1",
   "metadata": {},
   "outputs": [],
   "source": [
    "y_pred1=clf.predict(X_test)"
   ]
  },
  {
   "cell_type": "code",
   "execution_count": 86,
   "id": "1d65b050",
   "metadata": {},
   "outputs": [
    {
     "name": "stdout",
     "output_type": "stream",
     "text": [
      "LogisticRegression(C=0.1)\n",
      "{'C': 0.1, 'penalty': 'l2'}\n",
      "0.7060429447852761\n"
     ]
    }
   ],
   "source": [
    "print(clf.best_estimator_)\n",
    "print(clf.best_params_)\n",
    "print(clf.best_score_)"
   ]
  },
  {
   "cell_type": "markdown",
   "id": "5909300a",
   "metadata": {},
   "source": [
    "## Randomforest"
   ]
  },
  {
   "cell_type": "code",
   "execution_count": 87,
   "id": "0c8c47e0",
   "metadata": {},
   "outputs": [],
   "source": [
    "from sklearn.ensemble import RandomForestClassifier"
   ]
  },
  {
   "cell_type": "code",
   "execution_count": 88,
   "id": "afaca678",
   "metadata": {},
   "outputs": [],
   "source": [
    "#X, y = make_classification(n_samples=1000, n_features=22,n_informative=2, n_redundant=0,random_state=0, shuffle=False)"
   ]
  },
  {
   "cell_type": "code",
   "execution_count": 89,
   "id": "3a40cdc5",
   "metadata": {},
   "outputs": [
    {
     "name": "stdout",
     "output_type": "stream",
     "text": [
      "0.7775555555555556\n",
      "[[5895 1169]\n",
      " [ 833 1103]]\n",
      "              precision    recall  f1-score   support\n",
      "\n",
      "           0       0.88      0.83      0.85      7064\n",
      "           1       0.49      0.57      0.52      1936\n",
      "\n",
      "    accuracy                           0.78      9000\n",
      "   macro avg       0.68      0.70      0.69      9000\n",
      "weighted avg       0.79      0.78      0.78      9000\n",
      "\n"
     ]
    }
   ],
   "source": [
    "randoms=RandomForestClassifier(criterion='gini',max_depth=4,n_estimators= 8)\n",
    "randoms.fit(X_train,y_train)\n",
    "y_preds=randoms.predict(X_test)\n",
    "print(accuracy_score(y_test,y_preds))\n",
    "\n",
    "print(confusion_matrix(y_test,y_preds))\n",
    "print(classification_report(y_test,y_preds))"
   ]
  },
  {
   "cell_type": "code",
   "execution_count": 90,
   "id": "004c8d2e",
   "metadata": {},
   "outputs": [],
   "source": [
    "param_r={'criterion':[\"gini\",\"log_loss\"],\n",
    "      'max_depth':[2,5,7,3]\n",
    "      }"
   ]
  },
  {
   "cell_type": "code",
   "execution_count": 91,
   "id": "1656c6fa",
   "metadata": {},
   "outputs": [],
   "source": [
    "from sklearn.svm import SVC"
   ]
  },
  {
   "cell_type": "code",
   "execution_count": 92,
   "id": "b24925d0",
   "metadata": {},
   "outputs": [],
   "source": [
    "svs=SVC(gamma='auto')"
   ]
  },
  {
   "cell_type": "code",
   "execution_count": 93,
   "id": "9778ea9f",
   "metadata": {},
   "outputs": [
    {
     "data": {
      "text/html": [
       "<style>#sk-container-id-1 {color: black;}#sk-container-id-1 pre{padding: 0;}#sk-container-id-1 div.sk-toggleable {background-color: white;}#sk-container-id-1 label.sk-toggleable__label {cursor: pointer;display: block;width: 100%;margin-bottom: 0;padding: 0.3em;box-sizing: border-box;text-align: center;}#sk-container-id-1 label.sk-toggleable__label-arrow:before {content: \"▸\";float: left;margin-right: 0.25em;color: #696969;}#sk-container-id-1 label.sk-toggleable__label-arrow:hover:before {color: black;}#sk-container-id-1 div.sk-estimator:hover label.sk-toggleable__label-arrow:before {color: black;}#sk-container-id-1 div.sk-toggleable__content {max-height: 0;max-width: 0;overflow: hidden;text-align: left;background-color: #f0f8ff;}#sk-container-id-1 div.sk-toggleable__content pre {margin: 0.2em;color: black;border-radius: 0.25em;background-color: #f0f8ff;}#sk-container-id-1 input.sk-toggleable__control:checked~div.sk-toggleable__content {max-height: 200px;max-width: 100%;overflow: auto;}#sk-container-id-1 input.sk-toggleable__control:checked~label.sk-toggleable__label-arrow:before {content: \"▾\";}#sk-container-id-1 div.sk-estimator input.sk-toggleable__control:checked~label.sk-toggleable__label {background-color: #d4ebff;}#sk-container-id-1 div.sk-label input.sk-toggleable__control:checked~label.sk-toggleable__label {background-color: #d4ebff;}#sk-container-id-1 input.sk-hidden--visually {border: 0;clip: rect(1px 1px 1px 1px);clip: rect(1px, 1px, 1px, 1px);height: 1px;margin: -1px;overflow: hidden;padding: 0;position: absolute;width: 1px;}#sk-container-id-1 div.sk-estimator {font-family: monospace;background-color: #f0f8ff;border: 1px dotted black;border-radius: 0.25em;box-sizing: border-box;margin-bottom: 0.5em;}#sk-container-id-1 div.sk-estimator:hover {background-color: #d4ebff;}#sk-container-id-1 div.sk-parallel-item::after {content: \"\";width: 100%;border-bottom: 1px solid gray;flex-grow: 1;}#sk-container-id-1 div.sk-label:hover label.sk-toggleable__label {background-color: #d4ebff;}#sk-container-id-1 div.sk-serial::before {content: \"\";position: absolute;border-left: 1px solid gray;box-sizing: border-box;top: 0;bottom: 0;left: 50%;z-index: 0;}#sk-container-id-1 div.sk-serial {display: flex;flex-direction: column;align-items: center;background-color: white;padding-right: 0.2em;padding-left: 0.2em;position: relative;}#sk-container-id-1 div.sk-item {position: relative;z-index: 1;}#sk-container-id-1 div.sk-parallel {display: flex;align-items: stretch;justify-content: center;background-color: white;position: relative;}#sk-container-id-1 div.sk-item::before, #sk-container-id-1 div.sk-parallel-item::before {content: \"\";position: absolute;border-left: 1px solid gray;box-sizing: border-box;top: 0;bottom: 0;left: 50%;z-index: -1;}#sk-container-id-1 div.sk-parallel-item {display: flex;flex-direction: column;z-index: 1;position: relative;background-color: white;}#sk-container-id-1 div.sk-parallel-item:first-child::after {align-self: flex-end;width: 50%;}#sk-container-id-1 div.sk-parallel-item:last-child::after {align-self: flex-start;width: 50%;}#sk-container-id-1 div.sk-parallel-item:only-child::after {width: 0;}#sk-container-id-1 div.sk-dashed-wrapped {border: 1px dashed gray;margin: 0 0.4em 0.5em 0.4em;box-sizing: border-box;padding-bottom: 0.4em;background-color: white;}#sk-container-id-1 div.sk-label label {font-family: monospace;font-weight: bold;display: inline-block;line-height: 1.2em;}#sk-container-id-1 div.sk-label-container {text-align: center;}#sk-container-id-1 div.sk-container {/* jupyter's `normalize.less` sets `[hidden] { display: none; }` but bootstrap.min.css set `[hidden] { display: none !important; }` so we also need the `!important` here to be able to override the default hidden behavior on the sphinx rendered scikit-learn.org. See: https://github.com/scikit-learn/scikit-learn/issues/21755 */display: inline-block !important;position: relative;}#sk-container-id-1 div.sk-text-repr-fallback {display: none;}</style><div id=\"sk-container-id-1\" class=\"sk-top-container\"><div class=\"sk-text-repr-fallback\"><pre>SVC(gamma=&#x27;auto&#x27;)</pre><b>In a Jupyter environment, please rerun this cell to show the HTML representation or trust the notebook. <br />On GitHub, the HTML representation is unable to render, please try loading this page with nbviewer.org.</b></div><div class=\"sk-container\" hidden><div class=\"sk-item\"><div class=\"sk-estimator sk-toggleable\"><input class=\"sk-toggleable__control sk-hidden--visually\" id=\"sk-estimator-id-1\" type=\"checkbox\" checked><label for=\"sk-estimator-id-1\" class=\"sk-toggleable__label sk-toggleable__label-arrow\">SVC</label><div class=\"sk-toggleable__content\"><pre>SVC(gamma=&#x27;auto&#x27;)</pre></div></div></div></div></div>"
      ],
      "text/plain": [
       "SVC(gamma='auto')"
      ]
     },
     "execution_count": 93,
     "metadata": {},
     "output_type": "execute_result"
    }
   ],
   "source": [
    "svs.fit(X_train,y_train)"
   ]
  },
  {
   "cell_type": "code",
   "execution_count": 94,
   "id": "9470f998",
   "metadata": {},
   "outputs": [],
   "source": [
    "y_pred1=svs.predict(X_test)\n"
   ]
  },
  {
   "cell_type": "code",
   "execution_count": 95,
   "id": "ad14aaea",
   "metadata": {},
   "outputs": [
    {
     "name": "stdout",
     "output_type": "stream",
     "text": [
      "0.7595555555555555\n"
     ]
    }
   ],
   "source": [
    "print(accuracy_score(y_test,y_pred1))"
   ]
  },
  {
   "cell_type": "code",
   "execution_count": 96,
   "id": "c0a81118",
   "metadata": {},
   "outputs": [],
   "source": [
    "paramsss={\n",
    "    'C':[1,2,3,4,5,6,7,8,9],\n",
    "    'kernel':['rbf']\n",
    "}"
   ]
  },
  {
   "cell_type": "code",
   "execution_count": 97,
   "id": "2e852244",
   "metadata": {},
   "outputs": [],
   "source": [
    "cfs=GridSearchCV(estimator=svs,param_grid=paramsss,cv=2)"
   ]
  },
  {
   "cell_type": "code",
   "execution_count": 98,
   "id": "13eb3119",
   "metadata": {},
   "outputs": [
    {
     "data": {
      "text/html": [
       "<style>#sk-container-id-2 {color: black;}#sk-container-id-2 pre{padding: 0;}#sk-container-id-2 div.sk-toggleable {background-color: white;}#sk-container-id-2 label.sk-toggleable__label {cursor: pointer;display: block;width: 100%;margin-bottom: 0;padding: 0.3em;box-sizing: border-box;text-align: center;}#sk-container-id-2 label.sk-toggleable__label-arrow:before {content: \"▸\";float: left;margin-right: 0.25em;color: #696969;}#sk-container-id-2 label.sk-toggleable__label-arrow:hover:before {color: black;}#sk-container-id-2 div.sk-estimator:hover label.sk-toggleable__label-arrow:before {color: black;}#sk-container-id-2 div.sk-toggleable__content {max-height: 0;max-width: 0;overflow: hidden;text-align: left;background-color: #f0f8ff;}#sk-container-id-2 div.sk-toggleable__content pre {margin: 0.2em;color: black;border-radius: 0.25em;background-color: #f0f8ff;}#sk-container-id-2 input.sk-toggleable__control:checked~div.sk-toggleable__content {max-height: 200px;max-width: 100%;overflow: auto;}#sk-container-id-2 input.sk-toggleable__control:checked~label.sk-toggleable__label-arrow:before {content: \"▾\";}#sk-container-id-2 div.sk-estimator input.sk-toggleable__control:checked~label.sk-toggleable__label {background-color: #d4ebff;}#sk-container-id-2 div.sk-label input.sk-toggleable__control:checked~label.sk-toggleable__label {background-color: #d4ebff;}#sk-container-id-2 input.sk-hidden--visually {border: 0;clip: rect(1px 1px 1px 1px);clip: rect(1px, 1px, 1px, 1px);height: 1px;margin: -1px;overflow: hidden;padding: 0;position: absolute;width: 1px;}#sk-container-id-2 div.sk-estimator {font-family: monospace;background-color: #f0f8ff;border: 1px dotted black;border-radius: 0.25em;box-sizing: border-box;margin-bottom: 0.5em;}#sk-container-id-2 div.sk-estimator:hover {background-color: #d4ebff;}#sk-container-id-2 div.sk-parallel-item::after {content: \"\";width: 100%;border-bottom: 1px solid gray;flex-grow: 1;}#sk-container-id-2 div.sk-label:hover label.sk-toggleable__label {background-color: #d4ebff;}#sk-container-id-2 div.sk-serial::before {content: \"\";position: absolute;border-left: 1px solid gray;box-sizing: border-box;top: 0;bottom: 0;left: 50%;z-index: 0;}#sk-container-id-2 div.sk-serial {display: flex;flex-direction: column;align-items: center;background-color: white;padding-right: 0.2em;padding-left: 0.2em;position: relative;}#sk-container-id-2 div.sk-item {position: relative;z-index: 1;}#sk-container-id-2 div.sk-parallel {display: flex;align-items: stretch;justify-content: center;background-color: white;position: relative;}#sk-container-id-2 div.sk-item::before, #sk-container-id-2 div.sk-parallel-item::before {content: \"\";position: absolute;border-left: 1px solid gray;box-sizing: border-box;top: 0;bottom: 0;left: 50%;z-index: -1;}#sk-container-id-2 div.sk-parallel-item {display: flex;flex-direction: column;z-index: 1;position: relative;background-color: white;}#sk-container-id-2 div.sk-parallel-item:first-child::after {align-self: flex-end;width: 50%;}#sk-container-id-2 div.sk-parallel-item:last-child::after {align-self: flex-start;width: 50%;}#sk-container-id-2 div.sk-parallel-item:only-child::after {width: 0;}#sk-container-id-2 div.sk-dashed-wrapped {border: 1px dashed gray;margin: 0 0.4em 0.5em 0.4em;box-sizing: border-box;padding-bottom: 0.4em;background-color: white;}#sk-container-id-2 div.sk-label label {font-family: monospace;font-weight: bold;display: inline-block;line-height: 1.2em;}#sk-container-id-2 div.sk-label-container {text-align: center;}#sk-container-id-2 div.sk-container {/* jupyter's `normalize.less` sets `[hidden] { display: none; }` but bootstrap.min.css set `[hidden] { display: none !important; }` so we also need the `!important` here to be able to override the default hidden behavior on the sphinx rendered scikit-learn.org. See: https://github.com/scikit-learn/scikit-learn/issues/21755 */display: inline-block !important;position: relative;}#sk-container-id-2 div.sk-text-repr-fallback {display: none;}</style><div id=\"sk-container-id-2\" class=\"sk-top-container\"><div class=\"sk-text-repr-fallback\"><pre>GridSearchCV(cv=2, estimator=SVC(gamma=&#x27;auto&#x27;),\n",
       "             param_grid={&#x27;C&#x27;: [1, 2, 3, 4, 5, 6, 7, 8, 9], &#x27;kernel&#x27;: [&#x27;rbf&#x27;]})</pre><b>In a Jupyter environment, please rerun this cell to show the HTML representation or trust the notebook. <br />On GitHub, the HTML representation is unable to render, please try loading this page with nbviewer.org.</b></div><div class=\"sk-container\" hidden><div class=\"sk-item sk-dashed-wrapped\"><div class=\"sk-label-container\"><div class=\"sk-label sk-toggleable\"><input class=\"sk-toggleable__control sk-hidden--visually\" id=\"sk-estimator-id-2\" type=\"checkbox\" ><label for=\"sk-estimator-id-2\" class=\"sk-toggleable__label sk-toggleable__label-arrow\">GridSearchCV</label><div class=\"sk-toggleable__content\"><pre>GridSearchCV(cv=2, estimator=SVC(gamma=&#x27;auto&#x27;),\n",
       "             param_grid={&#x27;C&#x27;: [1, 2, 3, 4, 5, 6, 7, 8, 9], &#x27;kernel&#x27;: [&#x27;rbf&#x27;]})</pre></div></div></div><div class=\"sk-parallel\"><div class=\"sk-parallel-item\"><div class=\"sk-item\"><div class=\"sk-label-container\"><div class=\"sk-label sk-toggleable\"><input class=\"sk-toggleable__control sk-hidden--visually\" id=\"sk-estimator-id-3\" type=\"checkbox\" ><label for=\"sk-estimator-id-3\" class=\"sk-toggleable__label sk-toggleable__label-arrow\">estimator: SVC</label><div class=\"sk-toggleable__content\"><pre>SVC(gamma=&#x27;auto&#x27;)</pre></div></div></div><div class=\"sk-serial\"><div class=\"sk-item\"><div class=\"sk-estimator sk-toggleable\"><input class=\"sk-toggleable__control sk-hidden--visually\" id=\"sk-estimator-id-4\" type=\"checkbox\" ><label for=\"sk-estimator-id-4\" class=\"sk-toggleable__label sk-toggleable__label-arrow\">SVC</label><div class=\"sk-toggleable__content\"><pre>SVC(gamma=&#x27;auto&#x27;)</pre></div></div></div></div></div></div></div></div></div></div>"
      ],
      "text/plain": [
       "GridSearchCV(cv=2, estimator=SVC(gamma='auto'),\n",
       "             param_grid={'C': [1, 2, 3, 4, 5, 6, 7, 8, 9], 'kernel': ['rbf']})"
      ]
     },
     "execution_count": 98,
     "metadata": {},
     "output_type": "execute_result"
    }
   ],
   "source": [
    "cfs.fit(X_train,y_train)"
   ]
  },
  {
   "cell_type": "code",
   "execution_count": 99,
   "id": "b694b5dd",
   "metadata": {},
   "outputs": [],
   "source": [
    "cfs_pred=cfs.predict(X_test)"
   ]
  },
  {
   "cell_type": "code",
   "execution_count": 100,
   "id": "ccb551a1",
   "metadata": {},
   "outputs": [
    {
     "name": "stdout",
     "output_type": "stream",
     "text": [
      "0.7611111111111111\n"
     ]
    }
   ],
   "source": [
    "print(accuracy_score(y_test,cfs_pred))"
   ]
  },
  {
   "cell_type": "code",
   "execution_count": 101,
   "id": "81f0dea0",
   "metadata": {},
   "outputs": [],
   "source": [
    "import optuna\n",
    "import xgboost as xgb\n"
   ]
  },
  {
   "cell_type": "code",
   "execution_count": 102,
   "id": "9f1389ea",
   "metadata": {},
   "outputs": [
    {
     "name": "stderr",
     "output_type": "stream",
     "text": [
      "/home/pratik/Downloads/Default-credit-card-client-main/env/lib/python3.8/site-packages/sklearn/base.py:1151: DataConversionWarning: A column-vector y was passed when a 1d array was expected. Please change the shape of y to (n_samples,), for example using ravel().\n",
      "  return fit_method(estimator, *args, **kwargs)\n",
      "/home/pratik/Downloads/Default-credit-card-client-main/env/lib/python3.8/site-packages/sklearn/base.py:1151: DataConversionWarning: A column-vector y was passed when a 1d array was expected. Please change the shape of y to (n_samples,), for example using ravel().\n",
      "  return fit_method(estimator, *args, **kwargs)\n",
      "/home/pratik/Downloads/Default-credit-card-client-main/env/lib/python3.8/site-packages/sklearn/base.py:1151: DataConversionWarning: A column-vector y was passed when a 1d array was expected. Please change the shape of y to (n_samples,), for example using ravel().\n",
      "  return fit_method(estimator, *args, **kwargs)\n"
     ]
    },
    {
     "name": "stdout",
     "output_type": "stream",
     "text": [
      "Accuracy: 0.8151999999999999\n"
     ]
    }
   ],
   "source": [
    "import sklearn.datasets\n",
    "import sklearn.ensemble\n",
    "import sklearn.model_selection\n",
    "\n",
    "def objective():\n",
    "    X_train, X_test, y_train, y_test = train_test_split(X, y, test_size=0.30, random_state=30)  # Prepare the data.\n",
    "    \n",
    "    clf = sklearn.ensemble.RandomForestClassifier(    \n",
    "        n_estimators=13, max_depth=6)  # Define the model.\n",
    "    \n",
    "    return sklearn.model_selection.cross_val_score(\n",
    "        clf, X, y, n_jobs=-1, cv=3).mean()  # Train and evaluate the model.\n",
    "\n",
    "print('Accuracy: {}'.format(objective()))"
   ]
  },
  {
   "cell_type": "code",
   "execution_count": 103,
   "id": "0b11d80b",
   "metadata": {},
   "outputs": [
    {
     "name": "stderr",
     "output_type": "stream",
     "text": [
      "[I 2023-07-24 17:27:54,311] A new study created in memory with name: no-name-cf261594-7b60-4a13-a1c8-5dc415cdb7b0\n",
      "/home/pratik/Downloads/Default-credit-card-client-main/env/lib/python3.8/site-packages/sklearn/base.py:1151: DataConversionWarning: A column-vector y was passed when a 1d array was expected. Please change the shape of y to (n_samples,), for example using ravel().\n",
      "  return fit_method(estimator, *args, **kwargs)\n",
      "/home/pratik/Downloads/Default-credit-card-client-main/env/lib/python3.8/site-packages/sklearn/base.py:1151: DataConversionWarning: A column-vector y was passed when a 1d array was expected. Please change the shape of y to (n_samples,), for example using ravel().\n",
      "  return fit_method(estimator, *args, **kwargs)\n",
      "/home/pratik/Downloads/Default-credit-card-client-main/env/lib/python3.8/site-packages/sklearn/base.py:1151: DataConversionWarning: A column-vector y was passed when a 1d array was expected. Please change the shape of y to (n_samples,), for example using ravel().\n",
      "  return fit_method(estimator, *args, **kwargs)\n",
      "[I 2023-07-24 17:27:55,649] Trial 0 finished with value: 0.8021666666666666 and parameters: {'n_estimators': 10, 'max_depth': 29.18203466188328}. Best is trial 0 with value: 0.8021666666666666.\n",
      "/home/pratik/Downloads/Default-credit-card-client-main/env/lib/python3.8/site-packages/sklearn/base.py:1151: DataConversionWarning: A column-vector y was passed when a 1d array was expected. Please change the shape of y to (n_samples,), for example using ravel().\n",
      "  return fit_method(estimator, *args, **kwargs)\n",
      "/home/pratik/Downloads/Default-credit-card-client-main/env/lib/python3.8/site-packages/sklearn/base.py:1151: DataConversionWarning: A column-vector y was passed when a 1d array was expected. Please change the shape of y to (n_samples,), for example using ravel().\n",
      "  return fit_method(estimator, *args, **kwargs)\n",
      "/home/pratik/Downloads/Default-credit-card-client-main/env/lib/python3.8/site-packages/sklearn/base.py:1151: DataConversionWarning: A column-vector y was passed when a 1d array was expected. Please change the shape of y to (n_samples,), for example using ravel().\n",
      "  return fit_method(estimator, *args, **kwargs)\n",
      "[I 2023-07-24 17:27:56,536] Trial 1 finished with value: 0.8103999999999999 and parameters: {'n_estimators': 13, 'max_depth': 4.872613628375753}. Best is trial 1 with value: 0.8103999999999999.\n",
      "/home/pratik/Downloads/Default-credit-card-client-main/env/lib/python3.8/site-packages/sklearn/base.py:1151: DataConversionWarning: A column-vector y was passed when a 1d array was expected. Please change the shape of y to (n_samples,), for example using ravel().\n",
      "  return fit_method(estimator, *args, **kwargs)\n",
      "/home/pratik/Downloads/Default-credit-card-client-main/env/lib/python3.8/site-packages/sklearn/base.py:1151: DataConversionWarning: A column-vector y was passed when a 1d array was expected. Please change the shape of y to (n_samples,), for example using ravel().\n",
      "  return fit_method(estimator, *args, **kwargs)\n",
      "/home/pratik/Downloads/Default-credit-card-client-main/env/lib/python3.8/site-packages/sklearn/base.py:1151: DataConversionWarning: A column-vector y was passed when a 1d array was expected. Please change the shape of y to (n_samples,), for example using ravel().\n",
      "  return fit_method(estimator, *args, **kwargs)\n",
      "[I 2023-07-24 17:27:57,339] Trial 2 finished with value: 0.8183666666666666 and parameters: {'n_estimators': 8, 'max_depth': 5.782567005258288}. Best is trial 2 with value: 0.8183666666666666.\n",
      "/home/pratik/Downloads/Default-credit-card-client-main/env/lib/python3.8/site-packages/sklearn/base.py:1151: DataConversionWarning: A column-vector y was passed when a 1d array was expected. Please change the shape of y to (n_samples,), for example using ravel().\n",
      "  return fit_method(estimator, *args, **kwargs)\n",
      "/home/pratik/Downloads/Default-credit-card-client-main/env/lib/python3.8/site-packages/sklearn/base.py:1151: DataConversionWarning: A column-vector y was passed when a 1d array was expected. Please change the shape of y to (n_samples,), for example using ravel().\n",
      "  return fit_method(estimator, *args, **kwargs)\n",
      "/home/pratik/Downloads/Default-credit-card-client-main/env/lib/python3.8/site-packages/sklearn/base.py:1151: DataConversionWarning: A column-vector y was passed when a 1d array was expected. Please change the shape of y to (n_samples,), for example using ravel().\n",
      "  return fit_method(estimator, *args, **kwargs)\n",
      "[I 2023-07-24 17:27:57,981] Trial 3 finished with value: 0.8022666666666667 and parameters: {'n_estimators': 8, 'max_depth': 25.230290881559636}. Best is trial 2 with value: 0.8183666666666666.\n",
      "/home/pratik/Downloads/Default-credit-card-client-main/env/lib/python3.8/site-packages/sklearn/base.py:1151: DataConversionWarning: A column-vector y was passed when a 1d array was expected. Please change the shape of y to (n_samples,), for example using ravel().\n",
      "  return fit_method(estimator, *args, **kwargs)\n",
      "/home/pratik/Downloads/Default-credit-card-client-main/env/lib/python3.8/site-packages/sklearn/base.py:1151: DataConversionWarning: A column-vector y was passed when a 1d array was expected. Please change the shape of y to (n_samples,), for example using ravel().\n",
      "  return fit_method(estimator, *args, **kwargs)\n",
      "/home/pratik/Downloads/Default-credit-card-client-main/env/lib/python3.8/site-packages/sklearn/base.py:1151: DataConversionWarning: A column-vector y was passed when a 1d array was expected. Please change the shape of y to (n_samples,), for example using ravel().\n",
      "  return fit_method(estimator, *args, **kwargs)\n",
      "[I 2023-07-24 17:27:58,831] Trial 4 finished with value: 0.8056 and parameters: {'n_estimators': 11, 'max_depth': 30.98569383188294}. Best is trial 2 with value: 0.8183666666666666.\n",
      "/home/pratik/Downloads/Default-credit-card-client-main/env/lib/python3.8/site-packages/sklearn/base.py:1151: DataConversionWarning: A column-vector y was passed when a 1d array was expected. Please change the shape of y to (n_samples,), for example using ravel().\n",
      "  return fit_method(estimator, *args, **kwargs)\n",
      "/home/pratik/Downloads/Default-credit-card-client-main/env/lib/python3.8/site-packages/sklearn/base.py:1151: DataConversionWarning: A column-vector y was passed when a 1d array was expected. Please change the shape of y to (n_samples,), for example using ravel().\n",
      "  return fit_method(estimator, *args, **kwargs)\n",
      "/home/pratik/Downloads/Default-credit-card-client-main/env/lib/python3.8/site-packages/sklearn/base.py:1151: DataConversionWarning: A column-vector y was passed when a 1d array was expected. Please change the shape of y to (n_samples,), for example using ravel().\n",
      "  return fit_method(estimator, *args, **kwargs)\n",
      "[I 2023-07-24 17:27:59,388] Trial 5 finished with value: 0.8166666666666668 and parameters: {'n_estimators': 10, 'max_depth': 9.661143170943623}. Best is trial 2 with value: 0.8183666666666666.\n",
      "/home/pratik/Downloads/Default-credit-card-client-main/env/lib/python3.8/site-packages/sklearn/base.py:1151: DataConversionWarning: A column-vector y was passed when a 1d array was expected. Please change the shape of y to (n_samples,), for example using ravel().\n",
      "  return fit_method(estimator, *args, **kwargs)\n",
      "/home/pratik/Downloads/Default-credit-card-client-main/env/lib/python3.8/site-packages/sklearn/base.py:1151: DataConversionWarning: A column-vector y was passed when a 1d array was expected. Please change the shape of y to (n_samples,), for example using ravel().\n",
      "  return fit_method(estimator, *args, **kwargs)\n",
      "/home/pratik/Downloads/Default-credit-card-client-main/env/lib/python3.8/site-packages/sklearn/base.py:1151: DataConversionWarning: A column-vector y was passed when a 1d array was expected. Please change the shape of y to (n_samples,), for example using ravel().\n",
      "  return fit_method(estimator, *args, **kwargs)\n",
      "[I 2023-07-24 17:27:59,620] Trial 6 finished with value: 0.8136666666666666 and parameters: {'n_estimators': 3, 'max_depth': 2.565262578915389}. Best is trial 2 with value: 0.8183666666666666.\n",
      "/home/pratik/Downloads/Default-credit-card-client-main/env/lib/python3.8/site-packages/sklearn/base.py:1151: DataConversionWarning: A column-vector y was passed when a 1d array was expected. Please change the shape of y to (n_samples,), for example using ravel().\n",
      "  return fit_method(estimator, *args, **kwargs)\n",
      "/home/pratik/Downloads/Default-credit-card-client-main/env/lib/python3.8/site-packages/sklearn/base.py:1151: DataConversionWarning: A column-vector y was passed when a 1d array was expected. Please change the shape of y to (n_samples,), for example using ravel().\n",
      "  return fit_method(estimator, *args, **kwargs)\n",
      "/home/pratik/Downloads/Default-credit-card-client-main/env/lib/python3.8/site-packages/sklearn/base.py:1151: DataConversionWarning: A column-vector y was passed when a 1d array was expected. Please change the shape of y to (n_samples,), for example using ravel().\n",
      "  return fit_method(estimator, *args, **kwargs)\n",
      "[I 2023-07-24 17:27:59,873] Trial 7 finished with value: 0.7822666666666667 and parameters: {'n_estimators': 6, 'max_depth': 1.8601620935233465}. Best is trial 2 with value: 0.8183666666666666.\n",
      "/home/pratik/Downloads/Default-credit-card-client-main/env/lib/python3.8/site-packages/sklearn/base.py:1151: DataConversionWarning: A column-vector y was passed when a 1d array was expected. Please change the shape of y to (n_samples,), for example using ravel().\n",
      "  return fit_method(estimator, *args, **kwargs)\n",
      "/home/pratik/Downloads/Default-credit-card-client-main/env/lib/python3.8/site-packages/sklearn/base.py:1151: DataConversionWarning: A column-vector y was passed when a 1d array was expected. Please change the shape of y to (n_samples,), for example using ravel().\n",
      "  return fit_method(estimator, *args, **kwargs)\n",
      "/home/pratik/Downloads/Default-credit-card-client-main/env/lib/python3.8/site-packages/sklearn/base.py:1151: DataConversionWarning: A column-vector y was passed when a 1d array was expected. Please change the shape of y to (n_samples,), for example using ravel().\n",
      "  return fit_method(estimator, *args, **kwargs)\n",
      "[I 2023-07-24 17:28:00,539] Trial 8 finished with value: 0.8154333333333333 and parameters: {'n_estimators': 19, 'max_depth': 7.885319762109853}. Best is trial 2 with value: 0.8183666666666666.\n",
      "/home/pratik/Downloads/Default-credit-card-client-main/env/lib/python3.8/site-packages/sklearn/base.py:1151: DataConversionWarning: A column-vector y was passed when a 1d array was expected. Please change the shape of y to (n_samples,), for example using ravel().\n",
      "  return fit_method(estimator, *args, **kwargs)\n",
      "/home/pratik/Downloads/Default-credit-card-client-main/env/lib/python3.8/site-packages/sklearn/base.py:1151: DataConversionWarning: A column-vector y was passed when a 1d array was expected. Please change the shape of y to (n_samples,), for example using ravel().\n",
      "  return fit_method(estimator, *args, **kwargs)\n",
      "/home/pratik/Downloads/Default-credit-card-client-main/env/lib/python3.8/site-packages/sklearn/base.py:1151: DataConversionWarning: A column-vector y was passed when a 1d array was expected. Please change the shape of y to (n_samples,), for example using ravel().\n",
      "  return fit_method(estimator, *args, **kwargs)\n",
      "[I 2023-07-24 17:28:00,835] Trial 9 finished with value: 0.7695333333333334 and parameters: {'n_estimators': 2, 'max_depth': 18.990687818269844}. Best is trial 2 with value: 0.8183666666666666.\n",
      "/home/pratik/Downloads/Default-credit-card-client-main/env/lib/python3.8/site-packages/sklearn/base.py:1151: DataConversionWarning: A column-vector y was passed when a 1d array was expected. Please change the shape of y to (n_samples,), for example using ravel().\n",
      "  return fit_method(estimator, *args, **kwargs)\n",
      "/home/pratik/Downloads/Default-credit-card-client-main/env/lib/python3.8/site-packages/sklearn/base.py:1151: DataConversionWarning: A column-vector y was passed when a 1d array was expected. Please change the shape of y to (n_samples,), for example using ravel().\n",
      "  return fit_method(estimator, *args, **kwargs)\n",
      "/home/pratik/Downloads/Default-credit-card-client-main/env/lib/python3.8/site-packages/sklearn/base.py:1151: DataConversionWarning: A column-vector y was passed when a 1d array was expected. Please change the shape of y to (n_samples,), for example using ravel().\n",
      "  return fit_method(estimator, *args, **kwargs)\n",
      "[I 2023-07-24 17:28:01,186] Trial 10 finished with value: 0.7813 and parameters: {'n_estimators': 17, 'max_depth': 1.2117494440107566}. Best is trial 2 with value: 0.8183666666666666.\n",
      "/home/pratik/Downloads/Default-credit-card-client-main/env/lib/python3.8/site-packages/sklearn/base.py:1151: DataConversionWarning: A column-vector y was passed when a 1d array was expected. Please change the shape of y to (n_samples,), for example using ravel().\n",
      "  return fit_method(estimator, *args, **kwargs)\n",
      "/home/pratik/Downloads/Default-credit-card-client-main/env/lib/python3.8/site-packages/sklearn/base.py:1151: DataConversionWarning: A column-vector y was passed when a 1d array was expected. Please change the shape of y to (n_samples,), for example using ravel().\n",
      "  return fit_method(estimator, *args, **kwargs)\n",
      "/home/pratik/Downloads/Default-credit-card-client-main/env/lib/python3.8/site-packages/sklearn/base.py:1151: DataConversionWarning: A column-vector y was passed when a 1d array was expected. Please change the shape of y to (n_samples,), for example using ravel().\n",
      "  return fit_method(estimator, *args, **kwargs)\n",
      "[I 2023-07-24 17:28:01,721] Trial 11 finished with value: 0.8161666666666667 and parameters: {'n_estimators': 14, 'max_depth': 8.100992481491945}. Best is trial 2 with value: 0.8183666666666666.\n",
      "/home/pratik/Downloads/Default-credit-card-client-main/env/lib/python3.8/site-packages/sklearn/base.py:1151: DataConversionWarning: A column-vector y was passed when a 1d array was expected. Please change the shape of y to (n_samples,), for example using ravel().\n",
      "  return fit_method(estimator, *args, **kwargs)\n",
      "/home/pratik/Downloads/Default-credit-card-client-main/env/lib/python3.8/site-packages/sklearn/base.py:1151: DataConversionWarning: A column-vector y was passed when a 1d array was expected. Please change the shape of y to (n_samples,), for example using ravel().\n",
      "  return fit_method(estimator, *args, **kwargs)\n",
      "/home/pratik/Downloads/Default-credit-card-client-main/env/lib/python3.8/site-packages/sklearn/base.py:1151: DataConversionWarning: A column-vector y was passed when a 1d array was expected. Please change the shape of y to (n_samples,), for example using ravel().\n",
      "  return fit_method(estimator, *args, **kwargs)\n",
      "[I 2023-07-24 17:28:02,185] Trial 12 finished with value: 0.8098666666666667 and parameters: {'n_estimators': 7, 'max_depth': 12.58479902118092}. Best is trial 2 with value: 0.8183666666666666.\n",
      "/home/pratik/Downloads/Default-credit-card-client-main/env/lib/python3.8/site-packages/sklearn/base.py:1151: DataConversionWarning: A column-vector y was passed when a 1d array was expected. Please change the shape of y to (n_samples,), for example using ravel().\n",
      "  return fit_method(estimator, *args, **kwargs)\n",
      "/home/pratik/Downloads/Default-credit-card-client-main/env/lib/python3.8/site-packages/sklearn/base.py:1151: DataConversionWarning: A column-vector y was passed when a 1d array was expected. Please change the shape of y to (n_samples,), for example using ravel().\n",
      "  return fit_method(estimator, *args, **kwargs)\n",
      "/home/pratik/Downloads/Default-credit-card-client-main/env/lib/python3.8/site-packages/sklearn/base.py:1151: DataConversionWarning: A column-vector y was passed when a 1d array was expected. Please change the shape of y to (n_samples,), for example using ravel().\n",
      "  return fit_method(estimator, *args, **kwargs)\n",
      "[I 2023-07-24 17:28:02,496] Trial 13 finished with value: 0.8182 and parameters: {'n_estimators': 5, 'max_depth': 4.573693969905917}. Best is trial 2 with value: 0.8183666666666666.\n",
      "/home/pratik/Downloads/Default-credit-card-client-main/env/lib/python3.8/site-packages/sklearn/base.py:1151: DataConversionWarning: A column-vector y was passed when a 1d array was expected. Please change the shape of y to (n_samples,), for example using ravel().\n",
      "  return fit_method(estimator, *args, **kwargs)\n",
      "/home/pratik/Downloads/Default-credit-card-client-main/env/lib/python3.8/site-packages/sklearn/base.py:1151: DataConversionWarning: A column-vector y was passed when a 1d array was expected. Please change the shape of y to (n_samples,), for example using ravel().\n",
      "  return fit_method(estimator, *args, **kwargs)\n",
      "/home/pratik/Downloads/Default-credit-card-client-main/env/lib/python3.8/site-packages/sklearn/base.py:1151: DataConversionWarning: A column-vector y was passed when a 1d array was expected. Please change the shape of y to (n_samples,), for example using ravel().\n",
      "  return fit_method(estimator, *args, **kwargs)\n",
      "[I 2023-07-24 17:28:02,808] Trial 14 finished with value: 0.8108 and parameters: {'n_estimators': 5, 'max_depth': 4.375549800570852}. Best is trial 2 with value: 0.8183666666666666.\n",
      "/home/pratik/Downloads/Default-credit-card-client-main/env/lib/python3.8/site-packages/sklearn/base.py:1151: DataConversionWarning: A column-vector y was passed when a 1d array was expected. Please change the shape of y to (n_samples,), for example using ravel().\n",
      "  return fit_method(estimator, *args, **kwargs)\n",
      "/home/pratik/Downloads/Default-credit-card-client-main/env/lib/python3.8/site-packages/sklearn/base.py:1151: DataConversionWarning: A column-vector y was passed when a 1d array was expected. Please change the shape of y to (n_samples,), for example using ravel().\n",
      "  return fit_method(estimator, *args, **kwargs)\n",
      "/home/pratik/Downloads/Default-credit-card-client-main/env/lib/python3.8/site-packages/sklearn/base.py:1151: DataConversionWarning: A column-vector y was passed when a 1d array was expected. Please change the shape of y to (n_samples,), for example using ravel().\n",
      "  return fit_method(estimator, *args, **kwargs)\n",
      "[I 2023-07-24 17:28:03,078] Trial 15 finished with value: 0.8161999999999999 and parameters: {'n_estimators': 4, 'max_depth': 3.645661055009261}. Best is trial 2 with value: 0.8183666666666666.\n",
      "/home/pratik/Downloads/Default-credit-card-client-main/env/lib/python3.8/site-packages/sklearn/base.py:1151: DataConversionWarning: A column-vector y was passed when a 1d array was expected. Please change the shape of y to (n_samples,), for example using ravel().\n",
      "  return fit_method(estimator, *args, **kwargs)\n",
      "/home/pratik/Downloads/Default-credit-card-client-main/env/lib/python3.8/site-packages/sklearn/base.py:1151: DataConversionWarning: A column-vector y was passed when a 1d array was expected. Please change the shape of y to (n_samples,), for example using ravel().\n",
      "  return fit_method(estimator, *args, **kwargs)\n",
      "/home/pratik/Downloads/Default-credit-card-client-main/env/lib/python3.8/site-packages/sklearn/base.py:1151: DataConversionWarning: A column-vector y was passed when a 1d array was expected. Please change the shape of y to (n_samples,), for example using ravel().\n",
      "  return fit_method(estimator, *args, **kwargs)\n",
      "[I 2023-07-24 17:28:03,469] Trial 16 finished with value: 0.8168333333333333 and parameters: {'n_estimators': 8, 'max_depth': 6.048120678543187}. Best is trial 2 with value: 0.8183666666666666.\n",
      "/home/pratik/Downloads/Default-credit-card-client-main/env/lib/python3.8/site-packages/sklearn/base.py:1151: DataConversionWarning: A column-vector y was passed when a 1d array was expected. Please change the shape of y to (n_samples,), for example using ravel().\n",
      "  return fit_method(estimator, *args, **kwargs)\n",
      "/home/pratik/Downloads/Default-credit-card-client-main/env/lib/python3.8/site-packages/sklearn/base.py:1151: DataConversionWarning: A column-vector y was passed when a 1d array was expected. Please change the shape of y to (n_samples,), for example using ravel().\n",
      "  return fit_method(estimator, *args, **kwargs)\n",
      "/home/pratik/Downloads/Default-credit-card-client-main/env/lib/python3.8/site-packages/sklearn/base.py:1151: DataConversionWarning: A column-vector y was passed when a 1d array was expected. Please change the shape of y to (n_samples,), for example using ravel().\n",
      "  return fit_method(estimator, *args, **kwargs)\n",
      "[I 2023-07-24 17:28:03,850] Trial 17 finished with value: 0.8102999999999999 and parameters: {'n_estimators': 14, 'max_depth': 3.1757848095118106}. Best is trial 2 with value: 0.8183666666666666.\n",
      "/home/pratik/Downloads/Default-credit-card-client-main/env/lib/python3.8/site-packages/sklearn/base.py:1151: DataConversionWarning: A column-vector y was passed when a 1d array was expected. Please change the shape of y to (n_samples,), for example using ravel().\n",
      "  return fit_method(estimator, *args, **kwargs)\n",
      "/home/pratik/Downloads/Default-credit-card-client-main/env/lib/python3.8/site-packages/sklearn/base.py:1151: DataConversionWarning: A column-vector y was passed when a 1d array was expected. Please change the shape of y to (n_samples,), for example using ravel().\n",
      "  return fit_method(estimator, *args, **kwargs)\n",
      "/home/pratik/Downloads/Default-credit-card-client-main/env/lib/python3.8/site-packages/sklearn/base.py:1151: DataConversionWarning: A column-vector y was passed when a 1d array was expected. Please change the shape of y to (n_samples,), for example using ravel().\n",
      "  return fit_method(estimator, *args, **kwargs)\n",
      "[I 2023-07-24 17:28:04,142] Trial 18 finished with value: 0.8151999999999999 and parameters: {'n_estimators': 5, 'max_depth': 5.273865544111457}. Best is trial 2 with value: 0.8183666666666666.\n",
      "/home/pratik/Downloads/Default-credit-card-client-main/env/lib/python3.8/site-packages/sklearn/base.py:1151: DataConversionWarning: A column-vector y was passed when a 1d array was expected. Please change the shape of y to (n_samples,), for example using ravel().\n",
      "  return fit_method(estimator, *args, **kwargs)\n",
      "/home/pratik/Downloads/Default-credit-card-client-main/env/lib/python3.8/site-packages/sklearn/base.py:1151: DataConversionWarning: A column-vector y was passed when a 1d array was expected. Please change the shape of y to (n_samples,), for example using ravel().\n",
      "  return fit_method(estimator, *args, **kwargs)\n",
      "/home/pratik/Downloads/Default-credit-card-client-main/env/lib/python3.8/site-packages/sklearn/base.py:1151: DataConversionWarning: A column-vector y was passed when a 1d array was expected. Please change the shape of y to (n_samples,), for example using ravel().\n",
      "  return fit_method(estimator, *args, **kwargs)\n",
      "[I 2023-07-24 17:28:04,452] Trial 19 finished with value: 0.8026666666666666 and parameters: {'n_estimators': 9, 'max_depth': 2.4942569192353683}. Best is trial 2 with value: 0.8183666666666666.\n"
     ]
    },
    {
     "name": "stdout",
     "output_type": "stream",
     "text": [
      "Accuracy: 0.8183666666666666\n",
      "Best hyperparameters: {'n_estimators': 8, 'max_depth': 5.782567005258288}\n"
     ]
    }
   ],
   "source": [
    "import optuna\n",
    "\n",
    "def objective(trial):\n",
    "\n",
    "    X_train, X_test, y_train, y_test = train_test_split(X, y, test_size=0.30, random_state=30)\n",
    "    \n",
    "    n_estimators = trial.suggest_int('n_estimators', 2, 20)\n",
    "    max_depth = int(trial.suggest_float('max_depth', 1, 32, log=True))\n",
    "    \n",
    "    clf = sklearn.ensemble.RandomForestClassifier(\n",
    "        n_estimators=n_estimators, max_depth=max_depth)\n",
    "    \n",
    "    return sklearn.model_selection.cross_val_score(\n",
    "        clf, X,y, n_jobs=-1, cv=3).mean()\n",
    "\n",
    "study = optuna.create_study(direction='maximize')\n",
    "study.optimize(objective, n_trials=20)\n",
    "\n",
    "trial = study.best_trial\n",
    "\n",
    "print('Accuracy: {}'.format(trial.value))\n",
    "print(\"Best hyperparameters: {}\".format(trial.params))"
   ]
  },
  {
   "cell_type": "code",
   "execution_count": 104,
   "id": "35039be3",
   "metadata": {},
   "outputs": [
    {
     "name": "stderr",
     "output_type": "stream",
     "text": [
      "[I 2023-07-24 17:28:04,468] A new study created in memory with name: no-name-d877c855-2cca-4634-b70f-4e41354c9ba6\n",
      "/home/pratik/Downloads/Default-credit-card-client-main/env/lib/python3.8/site-packages/sklearn/base.py:1151: DataConversionWarning: A column-vector y was passed when a 1d array was expected. Please change the shape of y to (n_samples,), for example using ravel().\n",
      "  return fit_method(estimator, *args, **kwargs)\n",
      "/home/pratik/Downloads/Default-credit-card-client-main/env/lib/python3.8/site-packages/sklearn/base.py:1151: DataConversionWarning: A column-vector y was passed when a 1d array was expected. Please change the shape of y to (n_samples,), for example using ravel().\n",
      "  return fit_method(estimator, *args, **kwargs)\n",
      "/home/pratik/Downloads/Default-credit-card-client-main/env/lib/python3.8/site-packages/sklearn/base.py:1151: DataConversionWarning: A column-vector y was passed when a 1d array was expected. Please change the shape of y to (n_samples,), for example using ravel().\n",
      "  return fit_method(estimator, *args, **kwargs)\n",
      "[I 2023-07-24 17:28:04,839] Trial 0 finished with value: 0.8001666666666667 and parameters: {'classifier': 'RandomForest', 'n_estimators': 20, 'max_depth': 2.7991345888951473}. Best is trial 0 with value: 0.8001666666666667.\n",
      "/home/pratik/Downloads/Default-credit-card-client-main/env/lib/python3.8/site-packages/sklearn/utils/validation.py:1184: DataConversionWarning: A column-vector y was passed when a 1d array was expected. Please change the shape of y to (n_samples, ), for example using ravel().\n",
      "  y = column_or_1d(y, warn=True)\n",
      "/home/pratik/Downloads/Default-credit-card-client-main/env/lib/python3.8/site-packages/sklearn/utils/validation.py:1184: DataConversionWarning: A column-vector y was passed when a 1d array was expected. Please change the shape of y to (n_samples, ), for example using ravel().\n",
      "  y = column_or_1d(y, warn=True)\n",
      "/home/pratik/Downloads/Default-credit-card-client-main/env/lib/python3.8/site-packages/sklearn/utils/validation.py:1184: DataConversionWarning: A column-vector y was passed when a 1d array was expected. Please change the shape of y to (n_samples, ), for example using ravel().\n",
      "  y = column_or_1d(y, warn=True)\n",
      "[I 2023-07-24 17:28:24,980] Trial 1 finished with value: 0.7788 and parameters: {'classifier': 'SVC', 'svc_c': 0.00022574287655599066}. Best is trial 0 with value: 0.8001666666666667.\n",
      "/home/pratik/Downloads/Default-credit-card-client-main/env/lib/python3.8/site-packages/sklearn/utils/validation.py:1184: DataConversionWarning: A column-vector y was passed when a 1d array was expected. Please change the shape of y to (n_samples, ), for example using ravel().\n",
      "  y = column_or_1d(y, warn=True)\n",
      "/home/pratik/Downloads/Default-credit-card-client-main/env/lib/python3.8/site-packages/sklearn/utils/validation.py:1184: DataConversionWarning: A column-vector y was passed when a 1d array was expected. Please change the shape of y to (n_samples, ), for example using ravel().\n",
      "  y = column_or_1d(y, warn=True)\n",
      "/home/pratik/Downloads/Default-credit-card-client-main/env/lib/python3.8/site-packages/sklearn/utils/validation.py:1184: DataConversionWarning: A column-vector y was passed when a 1d array was expected. Please change the shape of y to (n_samples, ), for example using ravel().\n",
      "  y = column_or_1d(y, warn=True)\n",
      "[I 2023-07-24 17:30:04,462] Trial 2 finished with value: 0.7788 and parameters: {'classifier': 'SVC', 'svc_c': 0.09766090408583651}. Best is trial 0 with value: 0.8001666666666667.\n",
      "/home/pratik/Downloads/Default-credit-card-client-main/env/lib/python3.8/site-packages/sklearn/base.py:1151: DataConversionWarning: A column-vector y was passed when a 1d array was expected. Please change the shape of y to (n_samples,), for example using ravel().\n",
      "  return fit_method(estimator, *args, **kwargs)\n",
      "/home/pratik/Downloads/Default-credit-card-client-main/env/lib/python3.8/site-packages/sklearn/base.py:1151: DataConversionWarning: A column-vector y was passed when a 1d array was expected. Please change the shape of y to (n_samples,), for example using ravel().\n",
      "  return fit_method(estimator, *args, **kwargs)\n",
      "/home/pratik/Downloads/Default-credit-card-client-main/env/lib/python3.8/site-packages/sklearn/base.py:1151: DataConversionWarning: A column-vector y was passed when a 1d array was expected. Please change the shape of y to (n_samples,), for example using ravel().\n",
      "  return fit_method(estimator, *args, **kwargs)\n",
      "[I 2023-07-24 17:30:06,327] Trial 3 finished with value: 0.8091666666666667 and parameters: {'classifier': 'RandomForest', 'n_estimators': 20, 'max_depth': 29.720797008333278}. Best is trial 3 with value: 0.8091666666666667.\n",
      "/home/pratik/Downloads/Default-credit-card-client-main/env/lib/python3.8/site-packages/sklearn/base.py:1151: DataConversionWarning: A column-vector y was passed when a 1d array was expected. Please change the shape of y to (n_samples,), for example using ravel().\n",
      "  return fit_method(estimator, *args, **kwargs)\n",
      "/home/pratik/Downloads/Default-credit-card-client-main/env/lib/python3.8/site-packages/sklearn/base.py:1151: DataConversionWarning: A column-vector y was passed when a 1d array was expected. Please change the shape of y to (n_samples,), for example using ravel().\n",
      "  return fit_method(estimator, *args, **kwargs)\n",
      "/home/pratik/Downloads/Default-credit-card-client-main/env/lib/python3.8/site-packages/sklearn/base.py:1151: DataConversionWarning: A column-vector y was passed when a 1d array was expected. Please change the shape of y to (n_samples,), for example using ravel().\n",
      "  return fit_method(estimator, *args, **kwargs)\n",
      "[I 2023-07-24 17:30:06,585] Trial 4 finished with value: 0.8083999999999999 and parameters: {'classifier': 'RandomForest', 'n_estimators': 6, 'max_depth': 2.1724376272424006}. Best is trial 3 with value: 0.8091666666666667.\n"
     ]
    },
    {
     "name": "stdout",
     "output_type": "stream",
     "text": [
      "Accuracy: 0.8091666666666667\n",
      "Best hyperparameters: {'classifier': 'RandomForest', 'n_estimators': 20, 'max_depth': 29.720797008333278}\n"
     ]
    }
   ],
   "source": [
    "import sklearn.svm\n",
    "\n",
    "def objective(trial):\n",
    "    X_train, X_test, y_train, y_test = train_test_split(X, y, test_size=0.30, random_state=30)\n",
    "\n",
    "    classifier = trial.suggest_categorical('classifier', ['RandomForest', 'SVC'])\n",
    "    \n",
    "    if classifier == 'RandomForest':\n",
    "        n_estimators = trial.suggest_int('n_estimators', 2, 20)\n",
    "        max_depth = int(trial.suggest_float('max_depth', 1, 32, log=True))\n",
    "\n",
    "        clf = sklearn.ensemble.RandomForestClassifier(\n",
    "            n_estimators=n_estimators, max_depth=max_depth)\n",
    "    else:\n",
    "        c = trial.suggest_float('svc_c', 1e-10, 1e10, log=True)\n",
    "        \n",
    "        clf = sklearn.svm.SVC(C=c, gamma='auto')\n",
    "\n",
    "    return sklearn.model_selection.cross_val_score(\n",
    "        clf, X, y, n_jobs=-1, cv=3).mean()\n",
    "\n",
    "study = optuna.create_study(direction='maximize')\n",
    "study.optimize(objective, n_trials=5)\n",
    "\n",
    "trial = study.best_trial\n",
    "\n",
    "print('Accuracy: {}'.format(trial.value))\n",
    "print(\"Best hyperparameters: {}\".format(trial.params))"
   ]
  },
  {
   "cell_type": "code",
   "execution_count": null,
   "id": "dd58b6ab",
   "metadata": {},
   "outputs": [],
   "source": []
  },
  {
   "cell_type": "markdown",
   "id": "c0a1c43f",
   "metadata": {},
   "source": [
    "## randomforest give 81% accuracy"
   ]
  },
  {
   "cell_type": "code",
   "execution_count": 105,
   "id": "75fad998",
   "metadata": {},
   "outputs": [
    {
     "ename": "FileNotFoundError",
     "evalue": "[Errno 2] No such file or directory: 'model.pkl'",
     "output_type": "error",
     "traceback": [
      "\u001b[0;31m---------------------------------------------------------------------------\u001b[0m",
      "\u001b[0;31mFileNotFoundError\u001b[0m                         Traceback (most recent call last)",
      "Cell \u001b[0;32mIn[105], line 10\u001b[0m\n\u001b[1;32m      8\u001b[0m \u001b[39m# Replace 'path_to_model.pkl' with the actual path to your 'model.pkl' file\u001b[39;00m\n\u001b[1;32m      9\u001b[0m model_path \u001b[39m=\u001b[39m \u001b[39m'\u001b[39m\u001b[39mmodel.pkl\u001b[39m\u001b[39m'\u001b[39m\n\u001b[0;32m---> 10\u001b[0m loaded_model \u001b[39m=\u001b[39m load_model_from_pickle(model_path)\n",
      "Cell \u001b[0;32mIn[105], line 4\u001b[0m, in \u001b[0;36mload_model_from_pickle\u001b[0;34m(file_path)\u001b[0m\n\u001b[1;32m      3\u001b[0m \u001b[39mdef\u001b[39;00m \u001b[39mload_model_from_pickle\u001b[39m(file_path):\n\u001b[0;32m----> 4\u001b[0m     \u001b[39mwith\u001b[39;00m \u001b[39mopen\u001b[39;49m(file_path, \u001b[39m'\u001b[39;49m\u001b[39mrb\u001b[39;49m\u001b[39m'\u001b[39;49m) \u001b[39mas\u001b[39;00m file:\n\u001b[1;32m      5\u001b[0m         model \u001b[39m=\u001b[39m pickle\u001b[39m.\u001b[39mload(file)\n\u001b[1;32m      6\u001b[0m     \u001b[39mreturn\u001b[39;00m model\n",
      "File \u001b[0;32m~/Downloads/Default-credit-card-client-main/env/lib/python3.8/site-packages/IPython/core/interactiveshell.py:284\u001b[0m, in \u001b[0;36m_modified_open\u001b[0;34m(file, *args, **kwargs)\u001b[0m\n\u001b[1;32m    277\u001b[0m \u001b[39mif\u001b[39;00m file \u001b[39min\u001b[39;00m {\u001b[39m0\u001b[39m, \u001b[39m1\u001b[39m, \u001b[39m2\u001b[39m}:\n\u001b[1;32m    278\u001b[0m     \u001b[39mraise\u001b[39;00m \u001b[39mValueError\u001b[39;00m(\n\u001b[1;32m    279\u001b[0m         \u001b[39mf\u001b[39m\u001b[39m\"\u001b[39m\u001b[39mIPython won\u001b[39m\u001b[39m'\u001b[39m\u001b[39mt let you open fd=\u001b[39m\u001b[39m{\u001b[39;00mfile\u001b[39m}\u001b[39;00m\u001b[39m by default \u001b[39m\u001b[39m\"\u001b[39m\n\u001b[1;32m    280\u001b[0m         \u001b[39m\"\u001b[39m\u001b[39mas it is likely to crash IPython. If you know what you are doing, \u001b[39m\u001b[39m\"\u001b[39m\n\u001b[1;32m    281\u001b[0m         \u001b[39m\"\u001b[39m\u001b[39myou can use builtins\u001b[39m\u001b[39m'\u001b[39m\u001b[39m open.\u001b[39m\u001b[39m\"\u001b[39m\n\u001b[1;32m    282\u001b[0m     )\n\u001b[0;32m--> 284\u001b[0m \u001b[39mreturn\u001b[39;00m io_open(file, \u001b[39m*\u001b[39;49margs, \u001b[39m*\u001b[39;49m\u001b[39m*\u001b[39;49mkwargs)\n",
      "\u001b[0;31mFileNotFoundError\u001b[0m: [Errno 2] No such file or directory: 'model.pkl'"
     ]
    }
   ],
   "source": [
    "import pickle\n",
    "\n",
    "def load_model_from_pickle(file_path):\n",
    "    with open(file_path, 'rb') as file:\n",
    "        model = pickle.load(file)\n",
    "    return model\n",
    "\n",
    "# Replace 'path_to_model.pkl' with the actual path to your 'model.pkl' file\n",
    "model_path = 'model.pkl'\n",
    "loaded_model = load_model_from_pickle(model_path)\n"
   ]
  },
  {
   "cell_type": "code",
   "execution_count": null,
   "id": "146456f5",
   "metadata": {},
   "outputs": [],
   "source": []
  }
 ],
 "metadata": {
  "kernelspec": {
   "display_name": "Python 3 (ipykernel)",
   "language": "python",
   "name": "python3"
  },
  "language_info": {
   "codemirror_mode": {
    "name": "ipython",
    "version": 3
   },
   "file_extension": ".py",
   "mimetype": "text/x-python",
   "name": "python",
   "nbconvert_exporter": "python",
   "pygments_lexer": "ipython3",
   "version": "3.8.0"
  }
 },
 "nbformat": 4,
 "nbformat_minor": 5
}

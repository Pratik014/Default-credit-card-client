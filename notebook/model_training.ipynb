{
 "cells": [
  {
   "cell_type": "code",
   "execution_count": 1,
   "id": "221a2ee2",
   "metadata": {},
   "outputs": [],
   "source": [
    "import pandas as pd\n",
    "from sklearn.datasets import make_classification,make_blobs,make_moons\n",
    "import numpy as np\n",
    "import seaborn as sns\n",
    "import matplotlib.pyplot as plt\n",
    "import warnings\n",
    "warnings.filterwarnings('ignore')\n"
   ]
  },
  {
   "cell_type": "code",
   "execution_count": 2,
   "id": "186368c0",
   "metadata": {},
   "outputs": [],
   "source": [
    "df=pd.read_csv('/home/pratik/Downloads/Default-credit-card-client-main/notebook/data/cleand_default_of_credit_card_clients.csv')"
   ]
  },
  {
   "cell_type": "code",
   "execution_count": 3,
   "id": "d421f8cd",
   "metadata": {},
   "outputs": [
    {
     "data": {
      "text/html": [
       "<div>\n",
       "<style scoped>\n",
       "    .dataframe tbody tr th:only-of-type {\n",
       "        vertical-align: middle;\n",
       "    }\n",
       "\n",
       "    .dataframe tbody tr th {\n",
       "        vertical-align: top;\n",
       "    }\n",
       "\n",
       "    .dataframe thead th {\n",
       "        text-align: right;\n",
       "    }\n",
       "</style>\n",
       "<table border=\"1\" class=\"dataframe\">\n",
       "  <thead>\n",
       "    <tr style=\"text-align: right;\">\n",
       "      <th></th>\n",
       "      <th>LIMIT_BAL</th>\n",
       "      <th>SEX</th>\n",
       "      <th>EDUCATION</th>\n",
       "      <th>MARRIAGE</th>\n",
       "      <th>AGE</th>\n",
       "      <th>PAY_1</th>\n",
       "      <th>PAY_2</th>\n",
       "      <th>PAY_3</th>\n",
       "      <th>PAY_4</th>\n",
       "      <th>PAY_5</th>\n",
       "      <th>...</th>\n",
       "      <th>BILL_AMT4</th>\n",
       "      <th>BILL_AMT5</th>\n",
       "      <th>BILL_AMT6</th>\n",
       "      <th>PAY_AMT1</th>\n",
       "      <th>PAY_AMT2</th>\n",
       "      <th>PAY_AMT3</th>\n",
       "      <th>PAY_AMT4</th>\n",
       "      <th>PAY_AMT5</th>\n",
       "      <th>PAY_AMT6</th>\n",
       "      <th>def_pay</th>\n",
       "    </tr>\n",
       "  </thead>\n",
       "  <tbody>\n",
       "    <tr>\n",
       "      <th>0</th>\n",
       "      <td>20000</td>\n",
       "      <td>2</td>\n",
       "      <td>2</td>\n",
       "      <td>1</td>\n",
       "      <td>24</td>\n",
       "      <td>2</td>\n",
       "      <td>2</td>\n",
       "      <td>0</td>\n",
       "      <td>0</td>\n",
       "      <td>0</td>\n",
       "      <td>...</td>\n",
       "      <td>0</td>\n",
       "      <td>0</td>\n",
       "      <td>0</td>\n",
       "      <td>0</td>\n",
       "      <td>689</td>\n",
       "      <td>0</td>\n",
       "      <td>0</td>\n",
       "      <td>0</td>\n",
       "      <td>0</td>\n",
       "      <td>1</td>\n",
       "    </tr>\n",
       "    <tr>\n",
       "      <th>1</th>\n",
       "      <td>120000</td>\n",
       "      <td>2</td>\n",
       "      <td>2</td>\n",
       "      <td>2</td>\n",
       "      <td>26</td>\n",
       "      <td>0</td>\n",
       "      <td>2</td>\n",
       "      <td>0</td>\n",
       "      <td>0</td>\n",
       "      <td>0</td>\n",
       "      <td>...</td>\n",
       "      <td>3272</td>\n",
       "      <td>3455</td>\n",
       "      <td>3261</td>\n",
       "      <td>0</td>\n",
       "      <td>1000</td>\n",
       "      <td>1000</td>\n",
       "      <td>1000</td>\n",
       "      <td>0</td>\n",
       "      <td>2000</td>\n",
       "      <td>1</td>\n",
       "    </tr>\n",
       "    <tr>\n",
       "      <th>2</th>\n",
       "      <td>90000</td>\n",
       "      <td>2</td>\n",
       "      <td>2</td>\n",
       "      <td>2</td>\n",
       "      <td>34</td>\n",
       "      <td>0</td>\n",
       "      <td>0</td>\n",
       "      <td>0</td>\n",
       "      <td>0</td>\n",
       "      <td>0</td>\n",
       "      <td>...</td>\n",
       "      <td>14331</td>\n",
       "      <td>14948</td>\n",
       "      <td>15549</td>\n",
       "      <td>1518</td>\n",
       "      <td>1500</td>\n",
       "      <td>1000</td>\n",
       "      <td>1000</td>\n",
       "      <td>1000</td>\n",
       "      <td>5000</td>\n",
       "      <td>0</td>\n",
       "    </tr>\n",
       "    <tr>\n",
       "      <th>3</th>\n",
       "      <td>50000</td>\n",
       "      <td>2</td>\n",
       "      <td>2</td>\n",
       "      <td>1</td>\n",
       "      <td>37</td>\n",
       "      <td>0</td>\n",
       "      <td>0</td>\n",
       "      <td>0</td>\n",
       "      <td>0</td>\n",
       "      <td>0</td>\n",
       "      <td>...</td>\n",
       "      <td>28314</td>\n",
       "      <td>28959</td>\n",
       "      <td>29547</td>\n",
       "      <td>2000</td>\n",
       "      <td>2019</td>\n",
       "      <td>1200</td>\n",
       "      <td>1100</td>\n",
       "      <td>1069</td>\n",
       "      <td>1000</td>\n",
       "      <td>0</td>\n",
       "    </tr>\n",
       "    <tr>\n",
       "      <th>4</th>\n",
       "      <td>50000</td>\n",
       "      <td>1</td>\n",
       "      <td>2</td>\n",
       "      <td>1</td>\n",
       "      <td>57</td>\n",
       "      <td>0</td>\n",
       "      <td>0</td>\n",
       "      <td>0</td>\n",
       "      <td>0</td>\n",
       "      <td>0</td>\n",
       "      <td>...</td>\n",
       "      <td>20940</td>\n",
       "      <td>19146</td>\n",
       "      <td>19131</td>\n",
       "      <td>2000</td>\n",
       "      <td>36681</td>\n",
       "      <td>10000</td>\n",
       "      <td>9000</td>\n",
       "      <td>689</td>\n",
       "      <td>679</td>\n",
       "      <td>0</td>\n",
       "    </tr>\n",
       "  </tbody>\n",
       "</table>\n",
       "<p>5 rows × 24 columns</p>\n",
       "</div>"
      ],
      "text/plain": [
       "   LIMIT_BAL  SEX  EDUCATION  MARRIAGE  AGE  PAY_1  PAY_2  PAY_3  PAY_4  \\\n",
       "0      20000    2          2         1   24      2      2      0      0   \n",
       "1     120000    2          2         2   26      0      2      0      0   \n",
       "2      90000    2          2         2   34      0      0      0      0   \n",
       "3      50000    2          2         1   37      0      0      0      0   \n",
       "4      50000    1          2         1   57      0      0      0      0   \n",
       "\n",
       "   PAY_5  ...  BILL_AMT4  BILL_AMT5  BILL_AMT6  PAY_AMT1  PAY_AMT2  PAY_AMT3  \\\n",
       "0      0  ...          0          0          0         0       689         0   \n",
       "1      0  ...       3272       3455       3261         0      1000      1000   \n",
       "2      0  ...      14331      14948      15549      1518      1500      1000   \n",
       "3      0  ...      28314      28959      29547      2000      2019      1200   \n",
       "4      0  ...      20940      19146      19131      2000     36681     10000   \n",
       "\n",
       "   PAY_AMT4  PAY_AMT5  PAY_AMT6  def_pay  \n",
       "0         0         0         0        1  \n",
       "1      1000         0      2000        1  \n",
       "2      1000      1000      5000        0  \n",
       "3      1100      1069      1000        0  \n",
       "4      9000       689       679        0  \n",
       "\n",
       "[5 rows x 24 columns]"
      ]
     },
     "execution_count": 3,
     "metadata": {},
     "output_type": "execute_result"
    }
   ],
   "source": [
    "df.head()"
   ]
  },
  {
   "cell_type": "code",
   "execution_count": 4,
   "id": "b9131657",
   "metadata": {},
   "outputs": [
    {
     "data": {
      "text/plain": [
       "array([1, 0])"
      ]
     },
     "execution_count": 4,
     "metadata": {},
     "output_type": "execute_result"
    }
   ],
   "source": [
    "## imbalance data set\n",
    "df['def_pay'].unique()"
   ]
  },
  {
   "cell_type": "code",
   "execution_count": 5,
   "id": "98dcb8c1",
   "metadata": {},
   "outputs": [
    {
     "data": {
      "text/plain": [
       "array([2, 0, 1, 3, 4, 8, 7, 5, 6])"
      ]
     },
     "execution_count": 5,
     "metadata": {},
     "output_type": "execute_result"
    }
   ],
   "source": [
    "df['PAY_1'].unique()"
   ]
  },
  {
   "cell_type": "code",
   "execution_count": 6,
   "id": "6155daf1",
   "metadata": {},
   "outputs": [
    {
     "name": "stdout",
     "output_type": "stream",
     "text": [
      "<class 'pandas.core.frame.DataFrame'>\n",
      "RangeIndex: 30000 entries, 0 to 29999\n",
      "Data columns (total 24 columns):\n",
      " #   Column     Non-Null Count  Dtype\n",
      "---  ------     --------------  -----\n",
      " 0   LIMIT_BAL  30000 non-null  int64\n",
      " 1   SEX        30000 non-null  int64\n",
      " 2   EDUCATION  30000 non-null  int64\n",
      " 3   MARRIAGE   30000 non-null  int64\n",
      " 4   AGE        30000 non-null  int64\n",
      " 5   PAY_1      30000 non-null  int64\n",
      " 6   PAY_2      30000 non-null  int64\n",
      " 7   PAY_3      30000 non-null  int64\n",
      " 8   PAY_4      30000 non-null  int64\n",
      " 9   PAY_5      30000 non-null  int64\n",
      " 10  PAY_6      30000 non-null  int64\n",
      " 11  BILL_AMT1  30000 non-null  int64\n",
      " 12  BILL_AMT2  30000 non-null  int64\n",
      " 13  BILL_AMT3  30000 non-null  int64\n",
      " 14  BILL_AMT4  30000 non-null  int64\n",
      " 15  BILL_AMT5  30000 non-null  int64\n",
      " 16  BILL_AMT6  30000 non-null  int64\n",
      " 17  PAY_AMT1   30000 non-null  int64\n",
      " 18  PAY_AMT2   30000 non-null  int64\n",
      " 19  PAY_AMT3   30000 non-null  int64\n",
      " 20  PAY_AMT4   30000 non-null  int64\n",
      " 21  PAY_AMT5   30000 non-null  int64\n",
      " 22  PAY_AMT6   30000 non-null  int64\n",
      " 23  def_pay    30000 non-null  int64\n",
      "dtypes: int64(24)\n",
      "memory usage: 5.5 MB\n"
     ]
    }
   ],
   "source": [
    "df.info()"
   ]
  },
  {
   "cell_type": "code",
   "execution_count": 7,
   "id": "2872c63e",
   "metadata": {},
   "outputs": [
    {
     "data": {
      "text/plain": [
       "PAY_1\n",
       "0    23182\n",
       "1     3688\n",
       "2     2667\n",
       "3      322\n",
       "4       76\n",
       "5       26\n",
       "8       19\n",
       "6       11\n",
       "7        9\n",
       "Name: count, dtype: int64"
      ]
     },
     "execution_count": 7,
     "metadata": {},
     "output_type": "execute_result"
    }
   ],
   "source": [
    "df['PAY_1'].value_counts()"
   ]
  },
  {
   "cell_type": "code",
   "execution_count": 8,
   "id": "e9be8783",
   "metadata": {},
   "outputs": [],
   "source": [
    "## Segregate the colum for scaledown"
   ]
  },
  {
   "cell_type": "code",
   "execution_count": 9,
   "id": "ec59189b",
   "metadata": {},
   "outputs": [],
   "source": [
    "X=df.drop(['def_pay'],axis=1)"
   ]
  },
  {
   "cell_type": "code",
   "execution_count": 10,
   "id": "2c6c82ef",
   "metadata": {},
   "outputs": [],
   "source": [
    "y=df[['def_pay']]"
   ]
  },
  {
   "cell_type": "code",
   "execution_count": 11,
   "id": "8365d656",
   "metadata": {},
   "outputs": [],
   "source": [
    "#X, y = make_moons(n_samples=1000, noise=0.7)"
   ]
  },
  {
   "cell_type": "code",
   "execution_count": 12,
   "id": "78bbcd68",
   "metadata": {},
   "outputs": [],
   "source": [
    "#X, y = make_moons(n_samples=1000, noise=0.7)\n",
    "#plt.scatter(X[:,0],X[:,1],c=y)\n",
    "#plt.show()"
   ]
  },
  {
   "cell_type": "code",
   "execution_count": 13,
   "id": "a365c28a",
   "metadata": {},
   "outputs": [
    {
     "name": "stdout",
     "output_type": "stream",
     "text": [
      "Index(['LIMIT_BAL', 'SEX', 'EDUCATION', 'MARRIAGE', 'AGE', 'PAY_1', 'PAY_2',\n",
      "       'PAY_3', 'PAY_4', 'PAY_5', 'PAY_6', 'BILL_AMT1', 'BILL_AMT2',\n",
      "       'BILL_AMT3', 'BILL_AMT4', 'BILL_AMT5', 'BILL_AMT6', 'PAY_AMT1',\n",
      "       'PAY_AMT2', 'PAY_AMT3', 'PAY_AMT4', 'PAY_AMT5', 'PAY_AMT6'],\n",
      "      dtype='object')\n"
     ]
    }
   ],
   "source": [
    "column=X.columns\n",
    "print(column)"
   ]
  },
  {
   "cell_type": "code",
   "execution_count": 14,
   "id": "a4395eea",
   "metadata": {},
   "outputs": [],
   "source": [
    "from sklearn.compose import ColumnTransformer\n",
    "\n",
    "from sklearn.pipeline import Pipeline\n",
    "\n",
    "from sklearn.preprocessing import StandardScaler"
   ]
  },
  {
   "cell_type": "code",
   "execution_count": 15,
   "id": "f1a42ffd",
   "metadata": {},
   "outputs": [],
   "source": [
    "numerical_pip=Pipeline(\n",
    "    steps=[\n",
    "        ('scaler',StandardScaler())\n",
    "    ]\n",
    ")\n",
    "\n",
    "preprocessor=ColumnTransformer([\n",
    "    ('numeric',numerical_pip,column)\n",
    "])"
   ]
  },
  {
   "cell_type": "code",
   "execution_count": 16,
   "id": "c72a71fa",
   "metadata": {},
   "outputs": [],
   "source": [
    "from sklearn.model_selection import train_test_split"
   ]
  },
  {
   "cell_type": "code",
   "execution_count": 17,
   "id": "7a851493",
   "metadata": {},
   "outputs": [],
   "source": [
    "X_train, X_test, y_train, y_test = train_test_split(X, y, test_size=0.30, random_state=30)"
   ]
  },
  {
   "cell_type": "code",
   "execution_count": 18,
   "id": "a69181c2",
   "metadata": {},
   "outputs": [],
   "source": [
    "X_train=preprocessor.fit_transform(X_train)\n",
    "X_test=preprocessor.transform(X_test)"
   ]
  },
  {
   "cell_type": "code",
   "execution_count": 19,
   "id": "f9adb007",
   "metadata": {},
   "outputs": [
    {
     "data": {
      "text/plain": [
       "(21000, 23)"
      ]
     },
     "execution_count": 19,
     "metadata": {},
     "output_type": "execute_result"
    }
   ],
   "source": [
    "X_train.shape"
   ]
  },
  {
   "cell_type": "code",
   "execution_count": 20,
   "id": "2d7e35b8",
   "metadata": {},
   "outputs": [
    {
     "data": {
      "text/plain": [
       "(9000, 23)"
      ]
     },
     "execution_count": 20,
     "metadata": {},
     "output_type": "execute_result"
    }
   ],
   "source": [
    "X_test.shape\n"
   ]
  },
  {
   "cell_type": "code",
   "execution_count": 21,
   "id": "ffe11188",
   "metadata": {},
   "outputs": [
    {
     "data": {
      "text/html": [
       "<div>\n",
       "<style scoped>\n",
       "    .dataframe tbody tr th:only-of-type {\n",
       "        vertical-align: middle;\n",
       "    }\n",
       "\n",
       "    .dataframe tbody tr th {\n",
       "        vertical-align: top;\n",
       "    }\n",
       "\n",
       "    .dataframe thead th {\n",
       "        text-align: right;\n",
       "    }\n",
       "</style>\n",
       "<table border=\"1\" class=\"dataframe\">\n",
       "  <thead>\n",
       "    <tr style=\"text-align: right;\">\n",
       "      <th></th>\n",
       "      <th>numeric__LIMIT_BAL</th>\n",
       "      <th>numeric__SEX</th>\n",
       "      <th>numeric__EDUCATION</th>\n",
       "      <th>numeric__MARRIAGE</th>\n",
       "      <th>numeric__AGE</th>\n",
       "      <th>numeric__PAY_1</th>\n",
       "      <th>numeric__PAY_2</th>\n",
       "      <th>numeric__PAY_3</th>\n",
       "      <th>numeric__PAY_4</th>\n",
       "      <th>numeric__PAY_5</th>\n",
       "      <th>...</th>\n",
       "      <th>numeric__BILL_AMT3</th>\n",
       "      <th>numeric__BILL_AMT4</th>\n",
       "      <th>numeric__BILL_AMT5</th>\n",
       "      <th>numeric__BILL_AMT6</th>\n",
       "      <th>numeric__PAY_AMT1</th>\n",
       "      <th>numeric__PAY_AMT2</th>\n",
       "      <th>numeric__PAY_AMT3</th>\n",
       "      <th>numeric__PAY_AMT4</th>\n",
       "      <th>numeric__PAY_AMT5</th>\n",
       "      <th>numeric__PAY_AMT6</th>\n",
       "    </tr>\n",
       "  </thead>\n",
       "  <tbody>\n",
       "    <tr>\n",
       "      <th>0</th>\n",
       "      <td>-1.139003</td>\n",
       "      <td>-1.231086</td>\n",
       "      <td>0.216565</td>\n",
       "      <td>-1.073440</td>\n",
       "      <td>0.164656</td>\n",
       "      <td>-0.468416</td>\n",
       "      <td>-0.396151</td>\n",
       "      <td>-0.382004</td>\n",
       "      <td>-0.339993</td>\n",
       "      <td>2.506572</td>\n",
       "      <td>...</td>\n",
       "      <td>-0.517827</td>\n",
       "      <td>-0.495906</td>\n",
       "      <td>-0.481219</td>\n",
       "      <td>-0.521625</td>\n",
       "      <td>-0.202513</td>\n",
       "      <td>-0.178393</td>\n",
       "      <td>-0.243247</td>\n",
       "      <td>-0.313948</td>\n",
       "      <td>-0.277781</td>\n",
       "      <td>-0.234427</td>\n",
       "    </tr>\n",
       "    <tr>\n",
       "      <th>1</th>\n",
       "      <td>0.323213</td>\n",
       "      <td>0.812291</td>\n",
       "      <td>0.216565</td>\n",
       "      <td>0.845048</td>\n",
       "      <td>1.034894</td>\n",
       "      <td>0.840008</td>\n",
       "      <td>-0.396151</td>\n",
       "      <td>-0.382004</td>\n",
       "      <td>-0.339993</td>\n",
       "      <td>-0.308897</td>\n",
       "      <td>...</td>\n",
       "      <td>-0.674425</td>\n",
       "      <td>-0.671125</td>\n",
       "      <td>-0.662746</td>\n",
       "      <td>-0.652089</td>\n",
       "      <td>-0.333370</td>\n",
       "      <td>-0.237431</td>\n",
       "      <td>-0.284034</td>\n",
       "      <td>-0.313948</td>\n",
       "      <td>-0.305063</td>\n",
       "      <td>-0.289958</td>\n",
       "    </tr>\n",
       "    <tr>\n",
       "      <th>2</th>\n",
       "      <td>1.862388</td>\n",
       "      <td>-1.231086</td>\n",
       "      <td>-1.127766</td>\n",
       "      <td>0.845048</td>\n",
       "      <td>-0.923141</td>\n",
       "      <td>-0.468416</td>\n",
       "      <td>-0.396151</td>\n",
       "      <td>-0.382004</td>\n",
       "      <td>-0.339993</td>\n",
       "      <td>-0.308897</td>\n",
       "      <td>...</td>\n",
       "      <td>-0.450088</td>\n",
       "      <td>-0.041830</td>\n",
       "      <td>-0.367911</td>\n",
       "      <td>-0.075875</td>\n",
       "      <td>0.603235</td>\n",
       "      <td>0.395304</td>\n",
       "      <td>1.882136</td>\n",
       "      <td>0.877935</td>\n",
       "      <td>1.885017</td>\n",
       "      <td>-0.269467</td>\n",
       "    </tr>\n",
       "    <tr>\n",
       "      <th>3</th>\n",
       "      <td>0.323213</td>\n",
       "      <td>0.812291</td>\n",
       "      <td>-1.127766</td>\n",
       "      <td>0.845048</td>\n",
       "      <td>-0.705581</td>\n",
       "      <td>-0.468416</td>\n",
       "      <td>-0.396151</td>\n",
       "      <td>-0.382004</td>\n",
       "      <td>-0.339993</td>\n",
       "      <td>-0.308897</td>\n",
       "      <td>...</td>\n",
       "      <td>-0.674468</td>\n",
       "      <td>-0.671172</td>\n",
       "      <td>-0.652030</td>\n",
       "      <td>-0.620966</td>\n",
       "      <td>-0.333370</td>\n",
       "      <td>-0.237431</td>\n",
       "      <td>-0.284034</td>\n",
       "      <td>-0.270647</td>\n",
       "      <td>-0.187114</td>\n",
       "      <td>-0.211604</td>\n",
       "    </tr>\n",
       "    <tr>\n",
       "      <th>4</th>\n",
       "      <td>0.015378</td>\n",
       "      <td>0.812291</td>\n",
       "      <td>-1.127766</td>\n",
       "      <td>0.845048</td>\n",
       "      <td>0.382216</td>\n",
       "      <td>-0.468416</td>\n",
       "      <td>-0.396151</td>\n",
       "      <td>-0.382004</td>\n",
       "      <td>-0.339993</td>\n",
       "      <td>-0.308897</td>\n",
       "      <td>...</td>\n",
       "      <td>-0.364491</td>\n",
       "      <td>-0.309084</td>\n",
       "      <td>-0.413231</td>\n",
       "      <td>-0.592753</td>\n",
       "      <td>-0.041678</td>\n",
       "      <td>-0.040636</td>\n",
       "      <td>0.068238</td>\n",
       "      <td>-0.037628</td>\n",
       "      <td>-0.081284</td>\n",
       "      <td>0.127691</td>\n",
       "    </tr>\n",
       "    <tr>\n",
       "      <th>...</th>\n",
       "      <td>...</td>\n",
       "      <td>...</td>\n",
       "      <td>...</td>\n",
       "      <td>...</td>\n",
       "      <td>...</td>\n",
       "      <td>...</td>\n",
       "      <td>...</td>\n",
       "      <td>...</td>\n",
       "      <td>...</td>\n",
       "      <td>...</td>\n",
       "      <td>...</td>\n",
       "      <td>...</td>\n",
       "      <td>...</td>\n",
       "      <td>...</td>\n",
       "      <td>...</td>\n",
       "      <td>...</td>\n",
       "      <td>...</td>\n",
       "      <td>...</td>\n",
       "      <td>...</td>\n",
       "      <td>...</td>\n",
       "      <td>...</td>\n",
       "    </tr>\n",
       "    <tr>\n",
       "      <th>8995</th>\n",
       "      <td>0.400172</td>\n",
       "      <td>-1.231086</td>\n",
       "      <td>-1.127766</td>\n",
       "      <td>-1.073440</td>\n",
       "      <td>0.382216</td>\n",
       "      <td>-0.468416</td>\n",
       "      <td>-0.396151</td>\n",
       "      <td>-0.382004</td>\n",
       "      <td>-0.339993</td>\n",
       "      <td>-0.308897</td>\n",
       "      <td>...</td>\n",
       "      <td>-0.497393</td>\n",
       "      <td>-0.599515</td>\n",
       "      <td>-0.602276</td>\n",
       "      <td>-0.665699</td>\n",
       "      <td>-0.215960</td>\n",
       "      <td>-0.119354</td>\n",
       "      <td>-0.230154</td>\n",
       "      <td>-0.313948</td>\n",
       "      <td>-0.305063</td>\n",
       "      <td>-0.123365</td>\n",
       "    </tr>\n",
       "    <tr>\n",
       "      <th>8996</th>\n",
       "      <td>1.246718</td>\n",
       "      <td>0.812291</td>\n",
       "      <td>-1.127766</td>\n",
       "      <td>-1.073440</td>\n",
       "      <td>0.382216</td>\n",
       "      <td>-0.468416</td>\n",
       "      <td>-0.396151</td>\n",
       "      <td>-0.382004</td>\n",
       "      <td>-0.339993</td>\n",
       "      <td>-0.308897</td>\n",
       "      <td>...</td>\n",
       "      <td>0.014170</td>\n",
       "      <td>0.108582</td>\n",
       "      <td>0.193568</td>\n",
       "      <td>0.289392</td>\n",
       "      <td>-0.100529</td>\n",
       "      <td>-0.119354</td>\n",
       "      <td>-0.122392</td>\n",
       "      <td>-0.115013</td>\n",
       "      <td>0.012174</td>\n",
       "      <td>-0.178896</td>\n",
       "    </tr>\n",
       "    <tr>\n",
       "      <th>8997</th>\n",
       "      <td>-1.139003</td>\n",
       "      <td>-1.231086</td>\n",
       "      <td>0.216565</td>\n",
       "      <td>0.845048</td>\n",
       "      <td>-0.379242</td>\n",
       "      <td>-0.468416</td>\n",
       "      <td>-0.396151</td>\n",
       "      <td>-0.382004</td>\n",
       "      <td>-0.339993</td>\n",
       "      <td>-0.308897</td>\n",
       "      <td>...</td>\n",
       "      <td>-0.453093</td>\n",
       "      <td>-0.498982</td>\n",
       "      <td>-0.476405</td>\n",
       "      <td>-0.470936</td>\n",
       "      <td>-0.234412</td>\n",
       "      <td>-0.178865</td>\n",
       "      <td>-0.220886</td>\n",
       "      <td>-0.287888</td>\n",
       "      <td>-0.278732</td>\n",
       "      <td>-0.255751</td>\n",
       "    </tr>\n",
       "    <tr>\n",
       "      <th>8998</th>\n",
       "      <td>-0.600292</td>\n",
       "      <td>0.812291</td>\n",
       "      <td>1.560897</td>\n",
       "      <td>0.845048</td>\n",
       "      <td>-1.358260</td>\n",
       "      <td>-0.468416</td>\n",
       "      <td>-0.396151</td>\n",
       "      <td>-0.382004</td>\n",
       "      <td>-0.339993</td>\n",
       "      <td>-0.308897</td>\n",
       "      <td>...</td>\n",
       "      <td>-0.361972</td>\n",
       "      <td>-0.499697</td>\n",
       "      <td>-0.170871</td>\n",
       "      <td>-0.635501</td>\n",
       "      <td>1.412941</td>\n",
       "      <td>0.943338</td>\n",
       "      <td>0.310594</td>\n",
       "      <td>1.001407</td>\n",
       "      <td>-0.242504</td>\n",
       "      <td>0.910345</td>\n",
       "    </tr>\n",
       "    <tr>\n",
       "      <th>8999</th>\n",
       "      <td>0.861924</td>\n",
       "      <td>-1.231086</td>\n",
       "      <td>0.216565</td>\n",
       "      <td>0.845048</td>\n",
       "      <td>1.252453</td>\n",
       "      <td>-0.468416</td>\n",
       "      <td>-0.396151</td>\n",
       "      <td>-0.382004</td>\n",
       "      <td>-0.339993</td>\n",
       "      <td>-0.308897</td>\n",
       "      <td>...</td>\n",
       "      <td>0.449466</td>\n",
       "      <td>0.309136</td>\n",
       "      <td>0.383536</td>\n",
       "      <td>0.425122</td>\n",
       "      <td>-0.100296</td>\n",
       "      <td>-0.099517</td>\n",
       "      <td>-0.111400</td>\n",
       "      <td>-0.161166</td>\n",
       "      <td>-0.146191</td>\n",
       "      <td>-0.162015</td>\n",
       "    </tr>\n",
       "  </tbody>\n",
       "</table>\n",
       "<p>9000 rows × 23 columns</p>\n",
       "</div>"
      ],
      "text/plain": [
       "      numeric__LIMIT_BAL  numeric__SEX  numeric__EDUCATION  numeric__MARRIAGE  \\\n",
       "0              -1.139003     -1.231086            0.216565          -1.073440   \n",
       "1               0.323213      0.812291            0.216565           0.845048   \n",
       "2               1.862388     -1.231086           -1.127766           0.845048   \n",
       "3               0.323213      0.812291           -1.127766           0.845048   \n",
       "4               0.015378      0.812291           -1.127766           0.845048   \n",
       "...                  ...           ...                 ...                ...   \n",
       "8995            0.400172     -1.231086           -1.127766          -1.073440   \n",
       "8996            1.246718      0.812291           -1.127766          -1.073440   \n",
       "8997           -1.139003     -1.231086            0.216565           0.845048   \n",
       "8998           -0.600292      0.812291            1.560897           0.845048   \n",
       "8999            0.861924     -1.231086            0.216565           0.845048   \n",
       "\n",
       "      numeric__AGE  numeric__PAY_1  numeric__PAY_2  numeric__PAY_3  \\\n",
       "0         0.164656       -0.468416       -0.396151       -0.382004   \n",
       "1         1.034894        0.840008       -0.396151       -0.382004   \n",
       "2        -0.923141       -0.468416       -0.396151       -0.382004   \n",
       "3        -0.705581       -0.468416       -0.396151       -0.382004   \n",
       "4         0.382216       -0.468416       -0.396151       -0.382004   \n",
       "...            ...             ...             ...             ...   \n",
       "8995      0.382216       -0.468416       -0.396151       -0.382004   \n",
       "8996      0.382216       -0.468416       -0.396151       -0.382004   \n",
       "8997     -0.379242       -0.468416       -0.396151       -0.382004   \n",
       "8998     -1.358260       -0.468416       -0.396151       -0.382004   \n",
       "8999      1.252453       -0.468416       -0.396151       -0.382004   \n",
       "\n",
       "      numeric__PAY_4  numeric__PAY_5  ...  numeric__BILL_AMT3  \\\n",
       "0          -0.339993        2.506572  ...           -0.517827   \n",
       "1          -0.339993       -0.308897  ...           -0.674425   \n",
       "2          -0.339993       -0.308897  ...           -0.450088   \n",
       "3          -0.339993       -0.308897  ...           -0.674468   \n",
       "4          -0.339993       -0.308897  ...           -0.364491   \n",
       "...              ...             ...  ...                 ...   \n",
       "8995       -0.339993       -0.308897  ...           -0.497393   \n",
       "8996       -0.339993       -0.308897  ...            0.014170   \n",
       "8997       -0.339993       -0.308897  ...           -0.453093   \n",
       "8998       -0.339993       -0.308897  ...           -0.361972   \n",
       "8999       -0.339993       -0.308897  ...            0.449466   \n",
       "\n",
       "      numeric__BILL_AMT4  numeric__BILL_AMT5  numeric__BILL_AMT6  \\\n",
       "0              -0.495906           -0.481219           -0.521625   \n",
       "1              -0.671125           -0.662746           -0.652089   \n",
       "2              -0.041830           -0.367911           -0.075875   \n",
       "3              -0.671172           -0.652030           -0.620966   \n",
       "4              -0.309084           -0.413231           -0.592753   \n",
       "...                  ...                 ...                 ...   \n",
       "8995           -0.599515           -0.602276           -0.665699   \n",
       "8996            0.108582            0.193568            0.289392   \n",
       "8997           -0.498982           -0.476405           -0.470936   \n",
       "8998           -0.499697           -0.170871           -0.635501   \n",
       "8999            0.309136            0.383536            0.425122   \n",
       "\n",
       "      numeric__PAY_AMT1  numeric__PAY_AMT2  numeric__PAY_AMT3  \\\n",
       "0             -0.202513          -0.178393          -0.243247   \n",
       "1             -0.333370          -0.237431          -0.284034   \n",
       "2              0.603235           0.395304           1.882136   \n",
       "3             -0.333370          -0.237431          -0.284034   \n",
       "4             -0.041678          -0.040636           0.068238   \n",
       "...                 ...                ...                ...   \n",
       "8995          -0.215960          -0.119354          -0.230154   \n",
       "8996          -0.100529          -0.119354          -0.122392   \n",
       "8997          -0.234412          -0.178865          -0.220886   \n",
       "8998           1.412941           0.943338           0.310594   \n",
       "8999          -0.100296          -0.099517          -0.111400   \n",
       "\n",
       "      numeric__PAY_AMT4  numeric__PAY_AMT5  numeric__PAY_AMT6  \n",
       "0             -0.313948          -0.277781          -0.234427  \n",
       "1             -0.313948          -0.305063          -0.289958  \n",
       "2              0.877935           1.885017          -0.269467  \n",
       "3             -0.270647          -0.187114          -0.211604  \n",
       "4             -0.037628          -0.081284           0.127691  \n",
       "...                 ...                ...                ...  \n",
       "8995          -0.313948          -0.305063          -0.123365  \n",
       "8996          -0.115013           0.012174          -0.178896  \n",
       "8997          -0.287888          -0.278732          -0.255751  \n",
       "8998           1.001407          -0.242504           0.910345  \n",
       "8999          -0.161166          -0.146191          -0.162015  \n",
       "\n",
       "[9000 rows x 23 columns]"
      ]
     },
     "execution_count": 21,
     "metadata": {},
     "output_type": "execute_result"
    }
   ],
   "source": [
    "pd.DataFrame(X_test,columns=preprocessor.get_feature_names_out())"
   ]
  },
  {
   "cell_type": "code",
   "execution_count": 22,
   "id": "dc823a58",
   "metadata": {},
   "outputs": [],
   "source": [
    "from sklearn.metrics import accuracy_score,confusion_matrix,classification_report,f1_score,recall_score"
   ]
  },
  {
   "cell_type": "markdown",
   "id": "15020d2c",
   "metadata": {},
   "source": [
    "## logisticRegression"
   ]
  },
  {
   "cell_type": "code",
   "execution_count": 23,
   "id": "9c893815",
   "metadata": {},
   "outputs": [],
   "source": [
    "from sklearn.linear_model import LogisticRegression"
   ]
  },
  {
   "cell_type": "code",
   "execution_count": 24,
   "id": "85a4e07a",
   "metadata": {},
   "outputs": [
    {
     "data": {
      "text/html": [
       "<style>#sk-container-id-1 {color: black;background-color: white;}#sk-container-id-1 pre{padding: 0;}#sk-container-id-1 div.sk-toggleable {background-color: white;}#sk-container-id-1 label.sk-toggleable__label {cursor: pointer;display: block;width: 100%;margin-bottom: 0;padding: 0.3em;box-sizing: border-box;text-align: center;}#sk-container-id-1 label.sk-toggleable__label-arrow:before {content: \"▸\";float: left;margin-right: 0.25em;color: #696969;}#sk-container-id-1 label.sk-toggleable__label-arrow:hover:before {color: black;}#sk-container-id-1 div.sk-estimator:hover label.sk-toggleable__label-arrow:before {color: black;}#sk-container-id-1 div.sk-toggleable__content {max-height: 0;max-width: 0;overflow: hidden;text-align: left;background-color: #f0f8ff;}#sk-container-id-1 div.sk-toggleable__content pre {margin: 0.2em;color: black;border-radius: 0.25em;background-color: #f0f8ff;}#sk-container-id-1 input.sk-toggleable__control:checked~div.sk-toggleable__content {max-height: 200px;max-width: 100%;overflow: auto;}#sk-container-id-1 input.sk-toggleable__control:checked~label.sk-toggleable__label-arrow:before {content: \"▾\";}#sk-container-id-1 div.sk-estimator input.sk-toggleable__control:checked~label.sk-toggleable__label {background-color: #d4ebff;}#sk-container-id-1 div.sk-label input.sk-toggleable__control:checked~label.sk-toggleable__label {background-color: #d4ebff;}#sk-container-id-1 input.sk-hidden--visually {border: 0;clip: rect(1px 1px 1px 1px);clip: rect(1px, 1px, 1px, 1px);height: 1px;margin: -1px;overflow: hidden;padding: 0;position: absolute;width: 1px;}#sk-container-id-1 div.sk-estimator {font-family: monospace;background-color: #f0f8ff;border: 1px dotted black;border-radius: 0.25em;box-sizing: border-box;margin-bottom: 0.5em;}#sk-container-id-1 div.sk-estimator:hover {background-color: #d4ebff;}#sk-container-id-1 div.sk-parallel-item::after {content: \"\";width: 100%;border-bottom: 1px solid gray;flex-grow: 1;}#sk-container-id-1 div.sk-label:hover label.sk-toggleable__label {background-color: #d4ebff;}#sk-container-id-1 div.sk-serial::before {content: \"\";position: absolute;border-left: 1px solid gray;box-sizing: border-box;top: 0;bottom: 0;left: 50%;z-index: 0;}#sk-container-id-1 div.sk-serial {display: flex;flex-direction: column;align-items: center;background-color: white;padding-right: 0.2em;padding-left: 0.2em;position: relative;}#sk-container-id-1 div.sk-item {position: relative;z-index: 1;}#sk-container-id-1 div.sk-parallel {display: flex;align-items: stretch;justify-content: center;background-color: white;position: relative;}#sk-container-id-1 div.sk-item::before, #sk-container-id-1 div.sk-parallel-item::before {content: \"\";position: absolute;border-left: 1px solid gray;box-sizing: border-box;top: 0;bottom: 0;left: 50%;z-index: -1;}#sk-container-id-1 div.sk-parallel-item {display: flex;flex-direction: column;z-index: 1;position: relative;background-color: white;}#sk-container-id-1 div.sk-parallel-item:first-child::after {align-self: flex-end;width: 50%;}#sk-container-id-1 div.sk-parallel-item:last-child::after {align-self: flex-start;width: 50%;}#sk-container-id-1 div.sk-parallel-item:only-child::after {width: 0;}#sk-container-id-1 div.sk-dashed-wrapped {border: 1px dashed gray;margin: 0 0.4em 0.5em 0.4em;box-sizing: border-box;padding-bottom: 0.4em;background-color: white;}#sk-container-id-1 div.sk-label label {font-family: monospace;font-weight: bold;display: inline-block;line-height: 1.2em;}#sk-container-id-1 div.sk-label-container {text-align: center;}#sk-container-id-1 div.sk-container {/* jupyter's `normalize.less` sets `[hidden] { display: none; }` but bootstrap.min.css set `[hidden] { display: none !important; }` so we also need the `!important` here to be able to override the default hidden behavior on the sphinx rendered scikit-learn.org. See: https://github.com/scikit-learn/scikit-learn/issues/21755 */display: inline-block !important;position: relative;}#sk-container-id-1 div.sk-text-repr-fallback {display: none;}</style><div id=\"sk-container-id-1\" class=\"sk-top-container\"><div class=\"sk-text-repr-fallback\"><pre>LogisticRegression()</pre><b>In a Jupyter environment, please rerun this cell to show the HTML representation or trust the notebook. <br />On GitHub, the HTML representation is unable to render, please try loading this page with nbviewer.org.</b></div><div class=\"sk-container\" hidden><div class=\"sk-item\"><div class=\"sk-estimator sk-toggleable\"><input class=\"sk-toggleable__control sk-hidden--visually\" id=\"sk-estimator-id-1\" type=\"checkbox\" checked><label for=\"sk-estimator-id-1\" class=\"sk-toggleable__label sk-toggleable__label-arrow\">LogisticRegression</label><div class=\"sk-toggleable__content\"><pre>LogisticRegression()</pre></div></div></div></div></div>"
      ],
      "text/plain": [
       "LogisticRegression()"
      ]
     },
     "execution_count": 24,
     "metadata": {},
     "output_type": "execute_result"
    }
   ],
   "source": [
    "logic=LogisticRegression()\n",
    "logic.fit(X_train,y_train)"
   ]
  },
  {
   "cell_type": "code",
   "execution_count": 25,
   "id": "7463f24f",
   "metadata": {},
   "outputs": [],
   "source": [
    "y_pred=logic.predict(X_test)\n",
    "logic_report=classification_report(y_test,y_pred)\n",
    "confusion_report = confusion_matrix(y_test,y_pred)\n"
   ]
  },
  {
   "cell_type": "code",
   "execution_count": 26,
   "id": "26832958",
   "metadata": {},
   "outputs": [
    {
     "name": "stdout",
     "output_type": "stream",
     "text": [
      "              precision    recall  f1-score   support\n",
      "\n",
      "           0       0.84      0.95      0.89      7064\n",
      "           1       0.66      0.33      0.44      1936\n",
      "\n",
      "    accuracy                           0.82      9000\n",
      "   macro avg       0.75      0.64      0.67      9000\n",
      "weighted avg       0.80      0.82      0.80      9000\n",
      "\n",
      "[[6734  330]\n",
      " [1290  646]]\n",
      "0.82\n"
     ]
    }
   ],
   "source": [
    "print(logic_report)\n",
    "print(confusion_report)\n",
    "print(accuracy_score(y_test,y_pred))"
   ]
  },
  {
   "cell_type": "code",
   "execution_count": 27,
   "id": "3a7b2d90",
   "metadata": {},
   "outputs": [
    {
     "name": "stdout",
     "output_type": "stream",
     "text": [
      "[[6734  330]\n",
      " [1290  646]]\n"
     ]
    }
   ],
   "source": [
    "print(confusion_matrix(y_test,y_pred))"
   ]
  },
  {
   "cell_type": "markdown",
   "id": "2055acd4",
   "metadata": {},
   "source": [
    "## RandomForestClassifier"
   ]
  },
  {
   "cell_type": "code",
   "execution_count": 28,
   "id": "9b3d45a9",
   "metadata": {},
   "outputs": [],
   "source": [
    "from sklearn.ensemble import RandomForestClassifier"
   ]
  },
  {
   "cell_type": "code",
   "execution_count": 29,
   "id": "fc98b6e5",
   "metadata": {},
   "outputs": [
    {
     "data": {
      "text/html": [
       "<style>#sk-container-id-2 {color: black;background-color: white;}#sk-container-id-2 pre{padding: 0;}#sk-container-id-2 div.sk-toggleable {background-color: white;}#sk-container-id-2 label.sk-toggleable__label {cursor: pointer;display: block;width: 100%;margin-bottom: 0;padding: 0.3em;box-sizing: border-box;text-align: center;}#sk-container-id-2 label.sk-toggleable__label-arrow:before {content: \"▸\";float: left;margin-right: 0.25em;color: #696969;}#sk-container-id-2 label.sk-toggleable__label-arrow:hover:before {color: black;}#sk-container-id-2 div.sk-estimator:hover label.sk-toggleable__label-arrow:before {color: black;}#sk-container-id-2 div.sk-toggleable__content {max-height: 0;max-width: 0;overflow: hidden;text-align: left;background-color: #f0f8ff;}#sk-container-id-2 div.sk-toggleable__content pre {margin: 0.2em;color: black;border-radius: 0.25em;background-color: #f0f8ff;}#sk-container-id-2 input.sk-toggleable__control:checked~div.sk-toggleable__content {max-height: 200px;max-width: 100%;overflow: auto;}#sk-container-id-2 input.sk-toggleable__control:checked~label.sk-toggleable__label-arrow:before {content: \"▾\";}#sk-container-id-2 div.sk-estimator input.sk-toggleable__control:checked~label.sk-toggleable__label {background-color: #d4ebff;}#sk-container-id-2 div.sk-label input.sk-toggleable__control:checked~label.sk-toggleable__label {background-color: #d4ebff;}#sk-container-id-2 input.sk-hidden--visually {border: 0;clip: rect(1px 1px 1px 1px);clip: rect(1px, 1px, 1px, 1px);height: 1px;margin: -1px;overflow: hidden;padding: 0;position: absolute;width: 1px;}#sk-container-id-2 div.sk-estimator {font-family: monospace;background-color: #f0f8ff;border: 1px dotted black;border-radius: 0.25em;box-sizing: border-box;margin-bottom: 0.5em;}#sk-container-id-2 div.sk-estimator:hover {background-color: #d4ebff;}#sk-container-id-2 div.sk-parallel-item::after {content: \"\";width: 100%;border-bottom: 1px solid gray;flex-grow: 1;}#sk-container-id-2 div.sk-label:hover label.sk-toggleable__label {background-color: #d4ebff;}#sk-container-id-2 div.sk-serial::before {content: \"\";position: absolute;border-left: 1px solid gray;box-sizing: border-box;top: 0;bottom: 0;left: 50%;z-index: 0;}#sk-container-id-2 div.sk-serial {display: flex;flex-direction: column;align-items: center;background-color: white;padding-right: 0.2em;padding-left: 0.2em;position: relative;}#sk-container-id-2 div.sk-item {position: relative;z-index: 1;}#sk-container-id-2 div.sk-parallel {display: flex;align-items: stretch;justify-content: center;background-color: white;position: relative;}#sk-container-id-2 div.sk-item::before, #sk-container-id-2 div.sk-parallel-item::before {content: \"\";position: absolute;border-left: 1px solid gray;box-sizing: border-box;top: 0;bottom: 0;left: 50%;z-index: -1;}#sk-container-id-2 div.sk-parallel-item {display: flex;flex-direction: column;z-index: 1;position: relative;background-color: white;}#sk-container-id-2 div.sk-parallel-item:first-child::after {align-self: flex-end;width: 50%;}#sk-container-id-2 div.sk-parallel-item:last-child::after {align-self: flex-start;width: 50%;}#sk-container-id-2 div.sk-parallel-item:only-child::after {width: 0;}#sk-container-id-2 div.sk-dashed-wrapped {border: 1px dashed gray;margin: 0 0.4em 0.5em 0.4em;box-sizing: border-box;padding-bottom: 0.4em;background-color: white;}#sk-container-id-2 div.sk-label label {font-family: monospace;font-weight: bold;display: inline-block;line-height: 1.2em;}#sk-container-id-2 div.sk-label-container {text-align: center;}#sk-container-id-2 div.sk-container {/* jupyter's `normalize.less` sets `[hidden] { display: none; }` but bootstrap.min.css set `[hidden] { display: none !important; }` so we also need the `!important` here to be able to override the default hidden behavior on the sphinx rendered scikit-learn.org. See: https://github.com/scikit-learn/scikit-learn/issues/21755 */display: inline-block !important;position: relative;}#sk-container-id-2 div.sk-text-repr-fallback {display: none;}</style><div id=\"sk-container-id-2\" class=\"sk-top-container\"><div class=\"sk-text-repr-fallback\"><pre>RandomForestClassifier()</pre><b>In a Jupyter environment, please rerun this cell to show the HTML representation or trust the notebook. <br />On GitHub, the HTML representation is unable to render, please try loading this page with nbviewer.org.</b></div><div class=\"sk-container\" hidden><div class=\"sk-item\"><div class=\"sk-estimator sk-toggleable\"><input class=\"sk-toggleable__control sk-hidden--visually\" id=\"sk-estimator-id-2\" type=\"checkbox\" checked><label for=\"sk-estimator-id-2\" class=\"sk-toggleable__label sk-toggleable__label-arrow\">RandomForestClassifier</label><div class=\"sk-toggleable__content\"><pre>RandomForestClassifier()</pre></div></div></div></div></div>"
      ],
      "text/plain": [
       "RandomForestClassifier()"
      ]
     },
     "execution_count": 29,
     "metadata": {},
     "output_type": "execute_result"
    }
   ],
   "source": [
    "randm=RandomForestClassifier()\n",
    "randm.fit(X_train,y_train)"
   ]
  },
  {
   "cell_type": "code",
   "execution_count": 30,
   "id": "bcdf1a91",
   "metadata": {},
   "outputs": [],
   "source": [
    "y_pred=logic.predict(X_test)"
   ]
  },
  {
   "cell_type": "code",
   "execution_count": 31,
   "id": "2b10900b",
   "metadata": {},
   "outputs": [
    {
     "name": "stdout",
     "output_type": "stream",
     "text": [
      "[[6734  330]\n",
      " [1290  646]]\n",
      "              precision    recall  f1-score   support\n",
      "\n",
      "           0       0.84      0.95      0.89      7064\n",
      "           1       0.66      0.33      0.44      1936\n",
      "\n",
      "    accuracy                           0.82      9000\n",
      "   macro avg       0.75      0.64      0.67      9000\n",
      "weighted avg       0.80      0.82      0.80      9000\n",
      "\n",
      "0.82\n"
     ]
    }
   ],
   "source": [
    "print(confusion_matrix(y_test,y_pred))\n",
    "print(classification_report(y_test,y_pred))\n",
    "print(accuracy_score(y_test,y_pred))"
   ]
  },
  {
   "cell_type": "markdown",
   "id": "ffd5e42f",
   "metadata": {},
   "source": [
    "## hyperparameter tunning"
   ]
  },
  {
   "cell_type": "code",
   "execution_count": 32,
   "id": "763edc5d",
   "metadata": {},
   "outputs": [],
   "source": [
    "param_grid = {'penalty':['l1','l2'], 'C' : [0.001, 0.01, 0.1, 1, 10, 100, 1000] }"
   ]
  },
  {
   "cell_type": "code",
   "execution_count": 33,
   "id": "dde9cd5b",
   "metadata": {},
   "outputs": [
    {
     "name": "stdout",
     "output_type": "stream",
     "text": [
      "Best Penalty: l2\n",
      "Best C: 1\n"
     ]
    }
   ],
   "source": [
    "from sklearn.model_selection import GridSearchCV\n",
    "clf = GridSearchCV(estimator = logic , param_grid = param_grid, \n",
    "                   cv=5)\n",
    "best_model = clf.fit(X_train, y_train)\n",
    "print('Best Penalty:', best_model.best_estimator_.get_params() ['penalty'])\n",
    "print('Best C:', best_model.best_estimator_.get_params()['C'])\n"
   ]
  },
  {
   "cell_type": "code",
   "execution_count": 34,
   "id": "1e9e4880",
   "metadata": {},
   "outputs": [
    {
     "name": "stdout",
     "output_type": "stream",
     "text": [
      "[[6734  330]\n",
      " [1290  646]]\n",
      "              precision    recall  f1-score   support\n",
      "\n",
      "           0       0.84      0.95      0.89      7064\n",
      "           1       0.66      0.33      0.44      1936\n",
      "\n",
      "    accuracy                           0.82      9000\n",
      "   macro avg       0.75      0.64      0.67      9000\n",
      "weighted avg       0.80      0.82      0.80      9000\n",
      "\n",
      "0.82\n"
     ]
    }
   ],
   "source": [
    "y_pred=best_model.predict(X_test)\n",
    "print(confusion_matrix(y_test,y_pred))\n",
    "print(classification_report(y_test,y_pred))\n",
    "print(accuracy_score(y_test,y_pred))"
   ]
  },
  {
   "cell_type": "markdown",
   "id": "9018c9b1",
   "metadata": {},
   "source": [
    "##  imblearn for imbalance dataset"
   ]
  },
  {
   "cell_type": "code",
   "execution_count": 35,
   "id": "443bdfd5",
   "metadata": {},
   "outputs": [
    {
     "name": "stdout",
     "output_type": "stream",
     "text": [
      "def_pay\n",
      "0          16300\n",
      "1          16300\n",
      "Name: count, dtype: int64\n"
     ]
    }
   ],
   "source": [
    "from imblearn.over_sampling import SMOTE\n",
    "oversample = SMOTE()\n",
    "X_train, y_train = oversample.fit_resample(X_train, y_train)\n",
    "print(y_train.value_counts())"
   ]
  },
  {
   "cell_type": "code",
   "execution_count": 36,
   "id": "09e32a8c",
   "metadata": {},
   "outputs": [
    {
     "name": "stdout",
     "output_type": "stream",
     "text": [
      "Best Penalty: l2\n",
      "Best C: 0.01\n"
     ]
    }
   ],
   "source": [
    "clf = GridSearchCV(estimator = logic , param_grid = param_grid,cv=5)\n",
    "best_model = clf.fit(X_train, y_train)\n",
    "print('Best Penalty:', best_model.best_estimator_.get_params() ['penalty'])\n",
    "print('Best C:', best_model.best_estimator_.get_params()['C'])\n"
   ]
  },
  {
   "cell_type": "code",
   "execution_count": 37,
   "id": "9ce998b8",
   "metadata": {},
   "outputs": [
    {
     "name": "stdout",
     "output_type": "stream",
     "text": [
      "[[5925 1139]\n",
      " [ 842 1094]]\n",
      "              precision    recall  f1-score   support\n",
      "\n",
      "           0       0.88      0.84      0.86      7064\n",
      "           1       0.49      0.57      0.52      1936\n",
      "\n",
      "    accuracy                           0.78      9000\n",
      "   macro avg       0.68      0.70      0.69      9000\n",
      "weighted avg       0.79      0.78      0.79      9000\n",
      "\n",
      "0.7798888888888889\n"
     ]
    }
   ],
   "source": [
    "y_predic=best_model.predict(X_test)\n",
    "print(confusion_matrix(y_test,y_predic))\n",
    "print(classification_report(y_test,y_predic))\n",
    "print(accuracy_score(y_test,y_predic))"
   ]
  },
  {
   "cell_type": "markdown",
   "id": "131a2eb0",
   "metadata": {},
   "source": [
    "### logistic"
   ]
  },
  {
   "cell_type": "code",
   "execution_count": 38,
   "id": "40502a87",
   "metadata": {},
   "outputs": [
    {
     "name": "stdout",
     "output_type": "stream",
     "text": [
      "[[5917 1147]\n",
      " [ 845 1091]]\n",
      "              precision    recall  f1-score   support\n",
      "\n",
      "           0       0.88      0.84      0.86      7064\n",
      "           1       0.49      0.56      0.52      1936\n",
      "\n",
      "    accuracy                           0.78      9000\n",
      "   macro avg       0.68      0.70      0.69      9000\n",
      "weighted avg       0.79      0.78      0.78      9000\n",
      "\n",
      "0.7786666666666666\n"
     ]
    }
   ],
   "source": [
    "logic=logic.fit(X_train,y_train)\n",
    "y_predic=logic.predict(X_test)\n",
    "print(confusion_matrix(y_test,y_predic))\n",
    "print(classification_report(y_test,y_predic))\n",
    "print(accuracy_score(y_test,y_predic))"
   ]
  },
  {
   "cell_type": "markdown",
   "id": "823754ab",
   "metadata": {},
   "source": [
    "### randomforest classification"
   ]
  },
  {
   "cell_type": "code",
   "execution_count": 39,
   "id": "3660ae34",
   "metadata": {},
   "outputs": [
    {
     "name": "stdout",
     "output_type": "stream",
     "text": [
      "[[6185  879]\n",
      " [ 995  941]]\n",
      "              precision    recall  f1-score   support\n",
      "\n",
      "           0       0.86      0.88      0.87      7064\n",
      "           1       0.52      0.49      0.50      1936\n",
      "\n",
      "    accuracy                           0.79      9000\n",
      "   macro avg       0.69      0.68      0.68      9000\n",
      "weighted avg       0.79      0.79      0.79      9000\n",
      "\n",
      "0.7917777777777778\n"
     ]
    }
   ],
   "source": [
    "randm=randm.fit(X_train,y_train)\n",
    "y_predic=randm.predict(X_test)\n",
    "print(confusion_matrix(y_test,y_predic))\n",
    "print(classification_report(y_test,y_predic))\n",
    "print(accuracy_score(y_test,y_predic))"
   ]
  },
  {
   "cell_type": "code",
   "execution_count": 40,
   "id": "5a50e829",
   "metadata": {},
   "outputs": [],
   "source": [
    "#as we seen the result there is no such improvments"
   ]
  },
  {
   "cell_type": "code",
   "execution_count": 41,
   "id": "d4c4b765",
   "metadata": {},
   "outputs": [],
   "source": [
    "from sklearn.svm import SVC"
   ]
  },
  {
   "cell_type": "code",
   "execution_count": null,
   "id": "5b2c874a",
   "metadata": {},
   "outputs": [],
   "source": [
    "#X_train, y_train = make_moons(n_samples=1000, noise=0.7)\n",
    "#plt.scatter(X_train[:,0],X_train[:,1],c=y_train)\n",
    "#plt.show()"
   ]
  },
  {
   "cell_type": "code",
   "execution_count": null,
   "id": "3a045e1f",
   "metadata": {},
   "outputs": [],
   "source": [
    "svc=SVC()\n",
    "svc.fit(X_train,y_train)"
   ]
  },
  {
   "cell_type": "code",
   "execution_count": null,
   "id": "1774d796",
   "metadata": {},
   "outputs": [],
   "source": []
  },
  {
   "cell_type": "code",
   "execution_count": 44,
   "id": "d9d5871a",
   "metadata": {},
   "outputs": [
    {
     "name": "stdout",
     "output_type": "stream",
     "text": [
      "[[5711 1353]\n",
      " [ 791 1145]]\n",
      "              precision    recall  f1-score   support\n",
      "\n",
      "           0       0.88      0.81      0.84      7064\n",
      "           1       0.46      0.59      0.52      1936\n",
      "\n",
      "    accuracy                           0.76      9000\n",
      "   macro avg       0.67      0.70      0.68      9000\n",
      "weighted avg       0.79      0.76      0.77      9000\n",
      "\n",
      "0.7617777777777778\n"
     ]
    }
   ],
   "source": [
    "y_predic=svc.predict(X_test)\n",
    "print(confusion_matrix(y_test,y_predic))\n",
    "print(classification_report(y_test,y_predic))\n",
    "print(accuracy_score(y_test,y_predic))"
   ]
  },
  {
   "cell_type": "code",
   "execution_count": 42,
   "id": "40b8b328",
   "metadata": {},
   "outputs": [],
   "source": [
    "param_grids = {'C': [0.1, 1, 10, 100, 1000], \n",
    "              'gamma': [1, 0.1, 0.01, 0.001, 0.0001],\n",
    "              'kernel': ['rbf']}"
   ]
  },
  {
   "cell_type": "code",
   "execution_count": null,
   "id": "94be2818",
   "metadata": {},
   "outputs": [],
   "source": [
    "clfs=GridSearchCV(estimator=svc,param_grid=param_grids,cv=5)\n",
    "model=clfs.fit(X_train,y_train)"
   ]
  },
  {
   "cell_type": "code",
   "execution_count": null,
   "id": "41cf4918",
   "metadata": {},
   "outputs": [],
   "source": [
    "print(clf.best_params_)\n",
    "print(clf.best_estimator_)\n"
   ]
  },
  {
   "cell_type": "code",
   "execution_count": null,
   "id": "256467bc",
   "metadata": {},
   "outputs": [],
   "source": [
    "y_predic=model.predict(X_test)\n",
    "print(confusion_matrix(y_test,y_predic))\n",
    "print(classification_report(y_test,y_predic))\n",
    "print(accuracy_score(y_test,y_predic))"
   ]
  },
  {
   "cell_type": "code",
   "execution_count": null,
   "id": "c1679722",
   "metadata": {},
   "outputs": [],
   "source": []
  }
 ],
 "metadata": {
  "kernelspec": {
   "display_name": "Python 3 (ipykernel)",
   "language": "python",
   "name": "python3"
  },
  "language_info": {
   "codemirror_mode": {
    "name": "ipython",
    "version": 3
   },
   "file_extension": ".py",
   "mimetype": "text/x-python",
   "name": "python",
   "nbconvert_exporter": "python",
   "pygments_lexer": "ipython3",
   "version": "3.10.6"
  }
 },
 "nbformat": 4,
 "nbformat_minor": 5
}
